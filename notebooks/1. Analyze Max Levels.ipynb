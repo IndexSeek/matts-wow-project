{
 "cells": [
  {
   "cell_type": "code",
   "execution_count": 1,
   "metadata": {},
   "outputs": [
    {
     "name": "stdout",
     "output_type": "stream",
     "text": [
      "Collecting ibis-framework[duckdb]\n",
      "  Downloading ibis_framework-7.2.0-py3-none-any.whl.metadata (17 kB)\n",
      "Collecting atpublic<5,>=2.3 (from ibis-framework[duckdb])\n",
      "  Downloading atpublic-4.0-py3-none-any.whl.metadata (1.8 kB)\n",
      "Collecting bidict<1,>=0.22.1 (from ibis-framework[duckdb])\n",
      "  Downloading bidict-0.22.1-py3-none-any.whl (35 kB)\n",
      "Requirement already satisfied: filelock<4,>=3.7.0 in /home/codespace/.local/lib/python3.10/site-packages (from ibis-framework[duckdb]) (3.13.1)\n",
      "Collecting multipledispatch<2,>=0.6 (from ibis-framework[duckdb])\n",
      "  Downloading multipledispatch-1.0.0-py3-none-any.whl.metadata (3.8 kB)\n",
      "Requirement already satisfied: numpy<2,>=1 in /home/codespace/.local/lib/python3.10/site-packages (from ibis-framework[duckdb]) (1.26.2)\n",
      "Requirement already satisfied: pandas<3,>=1.2.5 in /home/codespace/.local/lib/python3.10/site-packages (from ibis-framework[duckdb]) (2.1.3)\n",
      "Collecting parsy<3,>=2 (from ibis-framework[duckdb])\n",
      "  Downloading parsy-2.1-py3-none-any.whl (9.1 kB)\n",
      "Collecting pins<1,>=0.8.3 (from pins[gcs]<1,>=0.8.3->ibis-framework[duckdb])\n",
      "  Downloading pins-0.8.3-py2.py3-none-any.whl.metadata (6.3 kB)\n",
      "Collecting pyarrow<15,>=2 (from ibis-framework[duckdb])\n",
      "  Downloading pyarrow-14.0.2-cp310-cp310-manylinux_2_28_x86_64.whl.metadata (3.0 kB)\n",
      "Collecting pyarrow-hotfix<1,>=0.4 (from ibis-framework[duckdb])\n",
      "  Downloading pyarrow_hotfix-0.6-py3-none-any.whl.metadata (3.6 kB)\n",
      "Requirement already satisfied: python-dateutil<3,>=2.8.2 in /home/codespace/.local/lib/python3.10/site-packages (from ibis-framework[duckdb]) (2.8.2)\n",
      "Requirement already satisfied: pytz>=2022.7 in /home/codespace/.local/lib/python3.10/site-packages (from ibis-framework[duckdb]) (2023.3.post1)\n",
      "Collecting rich<14,>=12.4.4 (from ibis-framework[duckdb])\n",
      "  Downloading rich-13.7.0-py3-none-any.whl.metadata (18 kB)\n",
      "Collecting sqlglot<21,>=18.12.0 (from ibis-framework[duckdb])\n",
      "  Downloading sqlglot-20.4.0-py3-none-any.whl.metadata (15 kB)\n",
      "Collecting toolz<1,>=0.11 (from ibis-framework[duckdb])\n",
      "  Downloading toolz-0.12.0-py3-none-any.whl (55 kB)\n",
      "\u001b[2K     \u001b[90m━━━━━━━━━━━━━━━━━━━━━━━━━━━━━━━━━━━━━━━━\u001b[0m \u001b[32m55.8/55.8 kB\u001b[0m \u001b[31m1.8 MB/s\u001b[0m eta \u001b[36m0:00:00\u001b[0m\n",
      "\u001b[?25hRequirement already satisfied: typing-extensions<5,>=4.3.0 in /home/codespace/.local/lib/python3.10/site-packages (from ibis-framework[duckdb]) (4.8.0)\n",
      "Collecting duckdb<1,>=0.8.1 (from ibis-framework[duckdb])\n",
      "  Downloading duckdb-0.9.2-cp310-cp310-manylinux_2_17_x86_64.manylinux2014_x86_64.whl.metadata (760 bytes)\n",
      "Collecting duckdb-engine<1,>=0.1.8 (from ibis-framework[duckdb])\n",
      "  Downloading duckdb_engine-0.10.0-py3-none-any.whl.metadata (7.9 kB)\n",
      "Collecting sqlalchemy<3,>=1.4 (from ibis-framework[duckdb])\n",
      "  Downloading SQLAlchemy-2.0.23-cp310-cp310-manylinux_2_17_x86_64.manylinux2014_x86_64.whl.metadata (9.6 kB)\n",
      "Collecting sqlalchemy-views<1,>=0.3.1 (from ibis-framework[duckdb])\n",
      "  Downloading sqlalchemy_views-0.3.2-py3-none-any.whl (5.7 kB)\n",
      "Requirement already satisfied: tzdata>=2022.1 in /home/codespace/.local/lib/python3.10/site-packages (from pandas<3,>=1.2.5->ibis-framework[duckdb]) (2023.3)\n",
      "Collecting fsspec<2023.9.0,>=0.8.0 (from pins<1,>=0.8.3->pins[gcs]<1,>=0.8.3->ibis-framework[duckdb])\n",
      "  Downloading fsspec-2023.6.0-py3-none-any.whl.metadata (6.7 kB)\n",
      "Requirement already satisfied: pyyaml>=3.13 in /home/codespace/.local/lib/python3.10/site-packages (from pins<1,>=0.8.3->pins[gcs]<1,>=0.8.3->ibis-framework[duckdb]) (6.0.1)\n",
      "Collecting xxhash>=1.0.0 (from pins<1,>=0.8.3->pins[gcs]<1,>=0.8.3->ibis-framework[duckdb])\n",
      "  Downloading xxhash-3.4.1-cp310-cp310-manylinux_2_17_x86_64.manylinux2014_x86_64.whl.metadata (12 kB)\n",
      "Requirement already satisfied: jinja2>=2.10.0 in /home/codespace/.local/lib/python3.10/site-packages (from pins<1,>=0.8.3->pins[gcs]<1,>=0.8.3->ibis-framework[duckdb]) (3.1.2)\n",
      "Requirement already satisfied: joblib>=0.12.0 in /home/codespace/.local/lib/python3.10/site-packages (from pins<1,>=0.8.3->pins[gcs]<1,>=0.8.3->ibis-framework[duckdb]) (1.3.2)\n",
      "Collecting importlib-metadata>=4.4 (from pins<1,>=0.8.3->pins[gcs]<1,>=0.8.3->ibis-framework[duckdb])\n",
      "  Downloading importlib_metadata-7.0.1-py3-none-any.whl.metadata (4.9 kB)\n",
      "Collecting importlib-resources>=1.3 (from pins<1,>=0.8.3->pins[gcs]<1,>=0.8.3->ibis-framework[duckdb])\n",
      "  Downloading importlib_resources-6.1.1-py3-none-any.whl.metadata (4.1 kB)\n",
      "Collecting appdirs<2.0.0 (from pins<1,>=0.8.3->pins[gcs]<1,>=0.8.3->ibis-framework[duckdb])\n",
      "  Downloading appdirs-1.4.4-py2.py3-none-any.whl (9.6 kB)\n",
      "Collecting humanize>=1.0.0 (from pins<1,>=0.8.3->pins[gcs]<1,>=0.8.3->ibis-framework[duckdb])\n",
      "  Downloading humanize-4.9.0-py3-none-any.whl.metadata (7.9 kB)\n",
      "Requirement already satisfied: requests in /home/codespace/.local/lib/python3.10/site-packages (from pins<1,>=0.8.3->pins[gcs]<1,>=0.8.3->ibis-framework[duckdb]) (2.31.0)\n",
      "Collecting gcsfs (from pins[gcs]<1,>=0.8.3->ibis-framework[duckdb])\n",
      "  Downloading gcsfs-2023.12.2.post1-py2.py3-none-any.whl.metadata (1.6 kB)\n",
      "Requirement already satisfied: six>=1.5 in /home/codespace/.local/lib/python3.10/site-packages (from python-dateutil<3,>=2.8.2->ibis-framework[duckdb]) (1.16.0)\n",
      "Collecting markdown-it-py>=2.2.0 (from rich<14,>=12.4.4->ibis-framework[duckdb])\n",
      "  Downloading markdown_it_py-3.0.0-py3-none-any.whl.metadata (6.9 kB)\n",
      "Requirement already satisfied: pygments<3.0.0,>=2.13.0 in /home/codespace/.local/lib/python3.10/site-packages (from rich<14,>=12.4.4->ibis-framework[duckdb]) (2.17.2)\n",
      "Collecting greenlet!=0.4.17 (from sqlalchemy<3,>=1.4->ibis-framework[duckdb])\n",
      "  Downloading greenlet-3.0.3-cp310-cp310-manylinux_2_24_x86_64.manylinux_2_28_x86_64.whl.metadata (3.8 kB)\n",
      "Collecting zipp>=0.5 (from importlib-metadata>=4.4->pins<1,>=0.8.3->pins[gcs]<1,>=0.8.3->ibis-framework[duckdb])\n",
      "  Downloading zipp-3.17.0-py3-none-any.whl.metadata (3.7 kB)\n",
      "Requirement already satisfied: MarkupSafe>=2.0 in /home/codespace/.local/lib/python3.10/site-packages (from jinja2>=2.10.0->pins<1,>=0.8.3->pins[gcs]<1,>=0.8.3->ibis-framework[duckdb]) (2.1.3)\n",
      "Collecting mdurl~=0.1 (from markdown-it-py>=2.2.0->rich<14,>=12.4.4->ibis-framework[duckdb])\n",
      "  Downloading mdurl-0.1.2-py3-none-any.whl (10.0 kB)\n",
      "Collecting aiohttp!=4.0.0a0,!=4.0.0a1 (from gcsfs->pins[gcs]<1,>=0.8.3->ibis-framework[duckdb])\n",
      "  Downloading aiohttp-3.9.1-cp310-cp310-manylinux_2_17_x86_64.manylinux2014_x86_64.whl.metadata (7.4 kB)\n",
      "Requirement already satisfied: decorator>4.1.2 in /home/codespace/.local/lib/python3.10/site-packages (from gcsfs->pins[gcs]<1,>=0.8.3->ibis-framework[duckdb]) (5.1.1)\n",
      "INFO: pip is looking at multiple versions of gcsfs to determine which version is compatible with other requirements. This could take a while.\n",
      "Collecting gcsfs (from pins[gcs]<1,>=0.8.3->ibis-framework[duckdb])\n",
      "  Downloading gcsfs-2023.12.1-py2.py3-none-any.whl.metadata (1.6 kB)\n",
      "  Downloading gcsfs-2023.12.0-py2.py3-none-any.whl.metadata (1.6 kB)\n",
      "  Downloading gcsfs-2023.10.0-py2.py3-none-any.whl.metadata (1.6 kB)\n",
      "  Downloading gcsfs-2023.9.2-py2.py3-none-any.whl.metadata (1.6 kB)\n",
      "  Downloading gcsfs-2023.9.1-py2.py3-none-any.whl.metadata (1.6 kB)\n",
      "  Downloading gcsfs-2023.9.0-py2.py3-none-any.whl.metadata (1.6 kB)\n",
      "  Downloading gcsfs-2023.6.0-py2.py3-none-any.whl.metadata (1.6 kB)\n",
      "Collecting google-auth>=1.2 (from gcsfs->pins[gcs]<1,>=0.8.3->ibis-framework[duckdb])\n",
      "  Downloading google_auth-2.25.2-py2.py3-none-any.whl.metadata (4.7 kB)\n",
      "Collecting google-auth-oauthlib (from gcsfs->pins[gcs]<1,>=0.8.3->ibis-framework[duckdb])\n",
      "  Downloading google_auth_oauthlib-1.2.0-py2.py3-none-any.whl.metadata (2.7 kB)\n",
      "Collecting google-cloud-storage (from gcsfs->pins[gcs]<1,>=0.8.3->ibis-framework[duckdb])\n",
      "  Downloading google_cloud_storage-2.14.0-py2.py3-none-any.whl.metadata (6.1 kB)\n",
      "Requirement already satisfied: charset-normalizer<4,>=2 in /home/codespace/.local/lib/python3.10/site-packages (from requests->pins<1,>=0.8.3->pins[gcs]<1,>=0.8.3->ibis-framework[duckdb]) (3.3.2)\n",
      "Requirement already satisfied: idna<4,>=2.5 in /home/codespace/.local/lib/python3.10/site-packages (from requests->pins<1,>=0.8.3->pins[gcs]<1,>=0.8.3->ibis-framework[duckdb]) (3.6)\n",
      "Requirement already satisfied: urllib3<3,>=1.21.1 in /usr/local/python/3.10.13/lib/python3.10/site-packages (from requests->pins<1,>=0.8.3->pins[gcs]<1,>=0.8.3->ibis-framework[duckdb]) (2.0.7)\n",
      "Requirement already satisfied: certifi>=2017.4.17 in /home/codespace/.local/lib/python3.10/site-packages (from requests->pins<1,>=0.8.3->pins[gcs]<1,>=0.8.3->ibis-framework[duckdb]) (2023.11.17)\n",
      "Requirement already satisfied: attrs>=17.3.0 in /home/codespace/.local/lib/python3.10/site-packages (from aiohttp!=4.0.0a0,!=4.0.0a1->gcsfs->pins[gcs]<1,>=0.8.3->ibis-framework[duckdb]) (23.1.0)\n",
      "Collecting multidict<7.0,>=4.5 (from aiohttp!=4.0.0a0,!=4.0.0a1->gcsfs->pins[gcs]<1,>=0.8.3->ibis-framework[duckdb])\n",
      "  Downloading multidict-6.0.4-cp310-cp310-manylinux_2_17_x86_64.manylinux2014_x86_64.whl (114 kB)\n",
      "\u001b[2K     \u001b[90m━━━━━━━━━━━━━━━━━━━━━━━━━━━━━━━━━━━━━━━\u001b[0m \u001b[32m114.5/114.5 kB\u001b[0m \u001b[31m3.2 MB/s\u001b[0m eta \u001b[36m0:00:00\u001b[0m\n",
      "\u001b[?25hCollecting yarl<2.0,>=1.0 (from aiohttp!=4.0.0a0,!=4.0.0a1->gcsfs->pins[gcs]<1,>=0.8.3->ibis-framework[duckdb])\n",
      "  Downloading yarl-1.9.4-cp310-cp310-manylinux_2_17_x86_64.manylinux2014_x86_64.whl.metadata (31 kB)\n",
      "Collecting frozenlist>=1.1.1 (from aiohttp!=4.0.0a0,!=4.0.0a1->gcsfs->pins[gcs]<1,>=0.8.3->ibis-framework[duckdb])\n",
      "  Downloading frozenlist-1.4.1-cp310-cp310-manylinux_2_5_x86_64.manylinux1_x86_64.manylinux_2_17_x86_64.manylinux2014_x86_64.whl.metadata (12 kB)\n",
      "Collecting aiosignal>=1.1.2 (from aiohttp!=4.0.0a0,!=4.0.0a1->gcsfs->pins[gcs]<1,>=0.8.3->ibis-framework[duckdb])\n",
      "  Downloading aiosignal-1.3.1-py3-none-any.whl (7.6 kB)\n",
      "Collecting async-timeout<5.0,>=4.0 (from aiohttp!=4.0.0a0,!=4.0.0a1->gcsfs->pins[gcs]<1,>=0.8.3->ibis-framework[duckdb])\n",
      "  Downloading async_timeout-4.0.3-py3-none-any.whl.metadata (4.2 kB)\n",
      "Collecting cachetools<6.0,>=2.0.0 (from google-auth>=1.2->gcsfs->pins[gcs]<1,>=0.8.3->ibis-framework[duckdb])\n",
      "  Downloading cachetools-5.3.2-py3-none-any.whl.metadata (5.2 kB)\n",
      "Collecting pyasn1-modules>=0.2.1 (from google-auth>=1.2->gcsfs->pins[gcs]<1,>=0.8.3->ibis-framework[duckdb])\n",
      "  Downloading pyasn1_modules-0.3.0-py2.py3-none-any.whl (181 kB)\n",
      "\u001b[2K     \u001b[90m━━━━━━━━━━━━━━━━━━━━━━━━━━━━━━━━━━━━━━━\u001b[0m \u001b[32m181.3/181.3 kB\u001b[0m \u001b[31m5.7 MB/s\u001b[0m eta \u001b[36m0:00:00\u001b[0m\n",
      "\u001b[?25hCollecting rsa<5,>=3.1.4 (from google-auth>=1.2->gcsfs->pins[gcs]<1,>=0.8.3->ibis-framework[duckdb])\n",
      "  Downloading rsa-4.9-py3-none-any.whl (34 kB)\n",
      "Collecting requests-oauthlib>=0.7.0 (from google-auth-oauthlib->gcsfs->pins[gcs]<1,>=0.8.3->ibis-framework[duckdb])\n",
      "  Downloading requests_oauthlib-1.3.1-py2.py3-none-any.whl (23 kB)\n",
      "Collecting google-api-core!=2.0.*,!=2.1.*,!=2.2.*,!=2.3.0,<3.0.0dev,>=1.31.5 (from google-cloud-storage->gcsfs->pins[gcs]<1,>=0.8.3->ibis-framework[duckdb])\n",
      "  Downloading google_api_core-2.15.0-py3-none-any.whl.metadata (2.7 kB)\n",
      "Collecting google-cloud-core<3.0dev,>=2.3.0 (from google-cloud-storage->gcsfs->pins[gcs]<1,>=0.8.3->ibis-framework[duckdb])\n",
      "  Downloading google_cloud_core-2.4.1-py2.py3-none-any.whl.metadata (2.7 kB)\n",
      "Collecting google-resumable-media>=2.6.0 (from google-cloud-storage->gcsfs->pins[gcs]<1,>=0.8.3->ibis-framework[duckdb])\n",
      "  Downloading google_resumable_media-2.7.0-py2.py3-none-any.whl.metadata (2.2 kB)\n",
      "Collecting google-crc32c<2.0dev,>=1.0 (from google-cloud-storage->gcsfs->pins[gcs]<1,>=0.8.3->ibis-framework[duckdb])\n",
      "  Downloading google_crc32c-1.5.0-cp310-cp310-manylinux_2_17_x86_64.manylinux2014_x86_64.whl (32 kB)\n",
      "Collecting googleapis-common-protos<2.0.dev0,>=1.56.2 (from google-api-core!=2.0.*,!=2.1.*,!=2.2.*,!=2.3.0,<3.0.0dev,>=1.31.5->google-cloud-storage->gcsfs->pins[gcs]<1,>=0.8.3->ibis-framework[duckdb])\n",
      "  Downloading googleapis_common_protos-1.62.0-py2.py3-none-any.whl.metadata (1.5 kB)\n",
      "Collecting protobuf!=3.20.0,!=3.20.1,!=4.21.0,!=4.21.1,!=4.21.2,!=4.21.3,!=4.21.4,!=4.21.5,<5.0.0.dev0,>=3.19.5 (from google-api-core!=2.0.*,!=2.1.*,!=2.2.*,!=2.3.0,<3.0.0dev,>=1.31.5->google-cloud-storage->gcsfs->pins[gcs]<1,>=0.8.3->ibis-framework[duckdb])\n",
      "  Downloading protobuf-4.25.1-cp37-abi3-manylinux2014_x86_64.whl.metadata (541 bytes)\n",
      "Collecting pyasn1<0.6.0,>=0.4.6 (from pyasn1-modules>=0.2.1->google-auth>=1.2->gcsfs->pins[gcs]<1,>=0.8.3->ibis-framework[duckdb])\n",
      "  Downloading pyasn1-0.5.1-py2.py3-none-any.whl.metadata (8.6 kB)\n",
      "Collecting oauthlib>=3.0.0 (from requests-oauthlib>=0.7.0->google-auth-oauthlib->gcsfs->pins[gcs]<1,>=0.8.3->ibis-framework[duckdb])\n",
      "  Downloading oauthlib-3.2.2-py3-none-any.whl (151 kB)\n",
      "\u001b[2K     \u001b[90m━━━━━━━━━━━━━━━━━━━━━━━━━━━━━━━━━━━━━━━\u001b[0m \u001b[32m151.7/151.7 kB\u001b[0m \u001b[31m4.5 MB/s\u001b[0m eta \u001b[36m0:00:00\u001b[0m\n",
      "\u001b[?25hDownloading atpublic-4.0-py3-none-any.whl (4.9 kB)\n",
      "Downloading duckdb-0.9.2-cp310-cp310-manylinux_2_17_x86_64.manylinux2014_x86_64.whl (16.5 MB)\n",
      "\u001b[2K   \u001b[90m━━━━━━━━━━━━━━━━━━━━━━━━━━━━━━━━━━━━━━━━\u001b[0m \u001b[32m16.5/16.5 MB\u001b[0m \u001b[31m37.7 MB/s\u001b[0m eta \u001b[36m0:00:00\u001b[0m00:01\u001b[0m00:01\u001b[0m\n",
      "\u001b[?25hDownloading duckdb_engine-0.10.0-py3-none-any.whl (46 kB)\n",
      "\u001b[2K   \u001b[90m━━━━━━━━━━━━━━━━━━━━━━━━━━━━━━━━━━━━━━━━\u001b[0m \u001b[32m46.0/46.0 kB\u001b[0m \u001b[31m1.3 MB/s\u001b[0m eta \u001b[36m0:00:00\u001b[0m\n",
      "\u001b[?25hDownloading multipledispatch-1.0.0-py3-none-any.whl (12 kB)\n",
      "Downloading pins-0.8.3-py2.py3-none-any.whl (112 kB)\n",
      "\u001b[2K   \u001b[90m━━━━━━━━━━━━━━━━━━━━━━━━━━━━━━━━━━━━━━━━\u001b[0m \u001b[32m112.4/112.4 kB\u001b[0m \u001b[31m3.4 MB/s\u001b[0m eta \u001b[36m0:00:00\u001b[0m\n",
      "\u001b[?25hDownloading pyarrow-14.0.2-cp310-cp310-manylinux_2_28_x86_64.whl (38.0 MB)\n",
      "\u001b[2K   \u001b[90m━━━━━━━━━━━━━━━━━━━━━━━━━━━━━━━━━━━━━━━━\u001b[0m \u001b[32m38.0/38.0 MB\u001b[0m \u001b[31m19.7 MB/s\u001b[0m eta \u001b[36m0:00:00\u001b[0m00:01\u001b[0m00:01\u001b[0m\n",
      "\u001b[?25hDownloading pyarrow_hotfix-0.6-py3-none-any.whl (7.9 kB)\n",
      "Downloading rich-13.7.0-py3-none-any.whl (240 kB)\n",
      "\u001b[2K   \u001b[90m━━━━━━━━━━━━━━━━━━━━━━━━━━━━━━━━━━━━━━━━\u001b[0m \u001b[32m240.6/240.6 kB\u001b[0m \u001b[31m8.5 MB/s\u001b[0m eta \u001b[36m0:00:00\u001b[0m\n",
      "\u001b[?25hDownloading SQLAlchemy-2.0.23-cp310-cp310-manylinux_2_17_x86_64.manylinux2014_x86_64.whl (3.0 MB)\n",
      "\u001b[2K   \u001b[90m━━━━━━━━━━━━━━━━━━━━━━━━━━━━━━━━━━━━━━━━\u001b[0m \u001b[32m3.0/3.0 MB\u001b[0m \u001b[31m22.4 MB/s\u001b[0m eta \u001b[36m0:00:00\u001b[0m00:01\u001b[0m00:01\u001b[0m\n",
      "\u001b[?25hDownloading sqlglot-20.4.0-py3-none-any.whl (341 kB)\n",
      "\u001b[2K   \u001b[90m━━━━━━━━━━━━━━━━━━━━━━━━━━━━━━━━━━━━━━━━\u001b[0m \u001b[32m341.4/341.4 kB\u001b[0m \u001b[31m9.1 MB/s\u001b[0m eta \u001b[36m0:00:00\u001b[0m:00:01\u001b[0m\n",
      "\u001b[?25hDownloading ibis_framework-7.2.0-py3-none-any.whl (1.8 MB)\n",
      "\u001b[2K   \u001b[90m━━━━━━━━━━━━━━━━━━━━━━━━━━━━━━━━━━━━━━━━\u001b[0m \u001b[32m1.8/1.8 MB\u001b[0m \u001b[31m19.7 MB/s\u001b[0m eta \u001b[36m0:00:00\u001b[0m00:01\u001b[0m00:01\u001b[0m\n",
      "\u001b[?25hDownloading fsspec-2023.6.0-py3-none-any.whl (163 kB)\n",
      "\u001b[2K   \u001b[90m━━━━━━━━━━━━━━━━━━━━━━━━━━━━━━━━━━━━━━━━\u001b[0m \u001b[32m163.8/163.8 kB\u001b[0m \u001b[31m3.9 MB/s\u001b[0m eta \u001b[36m0:00:00\u001b[0mta \u001b[36m0:00:01\u001b[0m\n",
      "\u001b[?25hDownloading greenlet-3.0.3-cp310-cp310-manylinux_2_24_x86_64.manylinux_2_28_x86_64.whl (616 kB)\n",
      "\u001b[2K   \u001b[90m━━━━━━━━━━━━━━━━━━━━━━━━━━━━━━━━━━━━━━━━\u001b[0m \u001b[32m616.0/616.0 kB\u001b[0m \u001b[31m11.5 MB/s\u001b[0m eta \u001b[36m0:00:00\u001b[0m00:01\u001b[0m\n",
      "\u001b[?25hDownloading humanize-4.9.0-py3-none-any.whl (126 kB)\n",
      "\u001b[2K   \u001b[90m━━━━━━━━━━━━━━━━━━━━━━━━━━━━━━━━━━━━━━━━\u001b[0m \u001b[32m126.8/126.8 kB\u001b[0m \u001b[31m4.5 MB/s\u001b[0m eta \u001b[36m0:00:00\u001b[0m\n",
      "\u001b[?25hDownloading importlib_metadata-7.0.1-py3-none-any.whl (23 kB)\n",
      "Downloading importlib_resources-6.1.1-py3-none-any.whl (33 kB)\n",
      "Downloading markdown_it_py-3.0.0-py3-none-any.whl (87 kB)\n",
      "\u001b[2K   \u001b[90m━━━━━━━━━━━━━━━━━━━━━━━━━━━━━━━━━━━━━━━━\u001b[0m \u001b[32m87.5/87.5 kB\u001b[0m \u001b[31m3.1 MB/s\u001b[0m eta \u001b[36m0:00:00\u001b[0m\n",
      "\u001b[?25hDownloading xxhash-3.4.1-cp310-cp310-manylinux_2_17_x86_64.manylinux2014_x86_64.whl (194 kB)\n",
      "\u001b[2K   \u001b[90m━━━━━━━━━━━━━━━━━━━━━━━━━━━━━━━━━━━━━━━━\u001b[0m \u001b[32m194.1/194.1 kB\u001b[0m \u001b[31m6.6 MB/s\u001b[0m eta \u001b[36m0:00:00\u001b[0m\n",
      "\u001b[?25hDownloading gcsfs-2023.6.0-py2.py3-none-any.whl (26 kB)\n",
      "Downloading aiohttp-3.9.1-cp310-cp310-manylinux_2_17_x86_64.manylinux2014_x86_64.whl (1.2 MB)\n",
      "\u001b[2K   \u001b[90m━━━━━━━━━━━━━━━━━━━━━━━━━━━━━━━━━━━━━━━━\u001b[0m \u001b[32m1.2/1.2 MB\u001b[0m \u001b[31m10.7 MB/s\u001b[0m eta \u001b[36m0:00:00\u001b[0m00:01\u001b[0m\n",
      "\u001b[?25hDownloading google_auth-2.25.2-py2.py3-none-any.whl (184 kB)\n",
      "\u001b[2K   \u001b[90m━━━━━━━━━━━━━━━━━━━━━━━━━━━━━━━━━━━━━━━━\u001b[0m \u001b[32m184.2/184.2 kB\u001b[0m \u001b[31m6.0 MB/s\u001b[0m eta \u001b[36m0:00:00\u001b[0m\n",
      "\u001b[?25hDownloading zipp-3.17.0-py3-none-any.whl (7.4 kB)\n",
      "Downloading google_auth_oauthlib-1.2.0-py2.py3-none-any.whl (24 kB)\n",
      "Downloading google_cloud_storage-2.14.0-py2.py3-none-any.whl (121 kB)\n",
      "\u001b[2K   \u001b[90m━━━━━━━━━━━━━━━━━━━━━━━━━━━━━━━━━━━━━━━━\u001b[0m \u001b[32m121.6/121.6 kB\u001b[0m \u001b[31m3.6 MB/s\u001b[0m eta \u001b[36m0:00:00\u001b[0m\n",
      "\u001b[?25hDownloading async_timeout-4.0.3-py3-none-any.whl (5.7 kB)\n",
      "Downloading cachetools-5.3.2-py3-none-any.whl (9.3 kB)\n",
      "Downloading frozenlist-1.4.1-cp310-cp310-manylinux_2_5_x86_64.manylinux1_x86_64.manylinux_2_17_x86_64.manylinux2014_x86_64.whl (239 kB)\n",
      "\u001b[2K   \u001b[90m━━━━━━━━━━━━━━━━━━━━━━━━━━━━━━━━━━━━━━━━\u001b[0m \u001b[32m239.5/239.5 kB\u001b[0m \u001b[31m7.7 MB/s\u001b[0m eta \u001b[36m0:00:00\u001b[0m\n",
      "\u001b[?25hDownloading google_api_core-2.15.0-py3-none-any.whl (121 kB)\n",
      "\u001b[2K   \u001b[90m━━━━━━━━━━━━━━━━━━━━━━━━━━━━━━━━━━━━━━━━\u001b[0m \u001b[32m122.0/122.0 kB\u001b[0m \u001b[31m3.8 MB/s\u001b[0m eta \u001b[36m0:00:00\u001b[0m\n",
      "\u001b[?25hDownloading google_cloud_core-2.4.1-py2.py3-none-any.whl (29 kB)\n",
      "Downloading google_resumable_media-2.7.0-py2.py3-none-any.whl (80 kB)\n",
      "\u001b[2K   \u001b[90m━━━━━━━━━━━━━━━━━━━━━━━━━━━━━━━━━━━━━━━━\u001b[0m \u001b[32m80.6/80.6 kB\u001b[0m \u001b[31m2.5 MB/s\u001b[0m eta \u001b[36m0:00:00\u001b[0m\n",
      "\u001b[?25hDownloading yarl-1.9.4-cp310-cp310-manylinux_2_17_x86_64.manylinux2014_x86_64.whl (301 kB)\n",
      "\u001b[2K   \u001b[90m━━━━━━━━━━━━━━━━━━━━━━━━━━━━━━━━━━━━━━━━\u001b[0m \u001b[32m301.6/301.6 kB\u001b[0m \u001b[31m7.9 MB/s\u001b[0m eta \u001b[36m0:00:00\u001b[0m:00:01\u001b[0m\n",
      "\u001b[?25hDownloading googleapis_common_protos-1.62.0-py2.py3-none-any.whl (228 kB)\n",
      "\u001b[2K   \u001b[90m━━━━━━━━━━━━━━━━━━━━━━━━━━━━━━━━━━━━━━━━\u001b[0m \u001b[32m228.7/228.7 kB\u001b[0m \u001b[31m7.4 MB/s\u001b[0m eta \u001b[36m0:00:00\u001b[0m\n",
      "\u001b[?25hDownloading protobuf-4.25.1-cp37-abi3-manylinux2014_x86_64.whl (294 kB)\n",
      "\u001b[2K   \u001b[90m━━━━━━━━━━━━━━━━━━━━━━━━━━━━━━━━━━━━━━━━\u001b[0m \u001b[32m294.6/294.6 kB\u001b[0m \u001b[31m7.1 MB/s\u001b[0m eta \u001b[36m0:00:00\u001b[0mta \u001b[36m0:00:01\u001b[0m\n",
      "\u001b[?25hDownloading pyasn1-0.5.1-py2.py3-none-any.whl (84 kB)\n",
      "\u001b[2K   \u001b[90m━━━━━━━━━━━━━━━━━━━━━━━━━━━━━━━━━━━━━━━━\u001b[0m \u001b[32m84.9/84.9 kB\u001b[0m \u001b[31m1.9 MB/s\u001b[0m eta \u001b[36m0:00:00\u001b[0meta \u001b[36m0:00:01\u001b[0m\n",
      "\u001b[?25hInstalling collected packages: multipledispatch, appdirs, zipp, xxhash, toolz, sqlglot, pyasn1, pyarrow-hotfix, pyarrow, protobuf, parsy, oauthlib, multidict, mdurl, importlib-resources, humanize, greenlet, google-crc32c, fsspec, frozenlist, duckdb, cachetools, bidict, atpublic, async-timeout, yarl, sqlalchemy, rsa, requests-oauthlib, pyasn1-modules, markdown-it-py, importlib-metadata, googleapis-common-protos, google-resumable-media, aiosignal, sqlalchemy-views, rich, pins, google-auth, duckdb-engine, aiohttp, google-auth-oauthlib, google-api-core, google-cloud-core, google-cloud-storage, gcsfs, ibis-framework\n",
      "  Attempting uninstall: fsspec\n",
      "    Found existing installation: fsspec 2023.12.1\n",
      "    Uninstalling fsspec-2023.12.1:\n",
      "      Successfully uninstalled fsspec-2023.12.1\n",
      "Successfully installed aiohttp-3.9.1 aiosignal-1.3.1 appdirs-1.4.4 async-timeout-4.0.3 atpublic-4.0 bidict-0.22.1 cachetools-5.3.2 duckdb-0.9.2 duckdb-engine-0.10.0 frozenlist-1.4.1 fsspec-2023.6.0 gcsfs-2023.6.0 google-api-core-2.15.0 google-auth-2.25.2 google-auth-oauthlib-1.2.0 google-cloud-core-2.4.1 google-cloud-storage-2.14.0 google-crc32c-1.5.0 google-resumable-media-2.7.0 googleapis-common-protos-1.62.0 greenlet-3.0.3 humanize-4.9.0 ibis-framework-7.2.0 importlib-metadata-7.0.1 importlib-resources-6.1.1 markdown-it-py-3.0.0 mdurl-0.1.2 multidict-6.0.4 multipledispatch-1.0.0 oauthlib-3.2.2 parsy-2.1 pins-0.8.3 protobuf-4.25.1 pyarrow-14.0.2 pyarrow-hotfix-0.6 pyasn1-0.5.1 pyasn1-modules-0.3.0 requests-oauthlib-1.3.1 rich-13.7.0 rsa-4.9 sqlalchemy-2.0.23 sqlalchemy-views-0.3.2 sqlglot-20.4.0 toolz-0.12.0 xxhash-3.4.1 yarl-1.9.4 zipp-3.17.0\n",
      "\n",
      "\u001b[1m[\u001b[0m\u001b[34;49mnotice\u001b[0m\u001b[1;39;49m]\u001b[0m\u001b[39;49m A new release of pip is available: \u001b[0m\u001b[31;49m23.3.1\u001b[0m\u001b[39;49m -> \u001b[0m\u001b[32;49m23.3.2\u001b[0m\n",
      "\u001b[1m[\u001b[0m\u001b[34;49mnotice\u001b[0m\u001b[1;39;49m]\u001b[0m\u001b[39;49m To update, run: \u001b[0m\u001b[32;49mpython -m pip install --upgrade pip\u001b[0m\n"
     ]
    }
   ],
   "source": [
    "!pip install ibis-framework[duckdb]"
   ]
  },
  {
   "cell_type": "code",
   "execution_count": 2,
   "metadata": {},
   "outputs": [],
   "source": [
    "from ibis.interactive import *"
   ]
  },
  {
   "cell_type": "code",
   "execution_count": 3,
   "metadata": {},
   "outputs": [],
   "source": [
    "wow = ex.wowah_data_raw.fetch()"
   ]
  },
  {
   "cell_type": "code",
   "execution_count": 4,
   "metadata": {},
   "outputs": [
    {
     "data": {
      "text/html": [
       "<pre style=\"white-space:pre;overflow-x:auto;line-height:normal;font-family:Menlo,'DejaVu Sans Mono',consolas,'Courier New',monospace\">┏━━━━━━━┳━━━━━━━┳━━━━━━━━┳━━━━━━━━━━━┳━━━━━━━━━━━━━━━━━━━━━━━━┳━━━━━━━┳━━━━━━━━━━━━━━━━━━━━━┓\n",
       "┃<span style=\"font-weight: bold\"> char  </span>┃<span style=\"font-weight: bold\"> level </span>┃<span style=\"font-weight: bold\"> race   </span>┃<span style=\"font-weight: bold\"> charclass </span>┃<span style=\"font-weight: bold\"> zone                   </span>┃<span style=\"font-weight: bold\"> guild </span>┃<span style=\"font-weight: bold\"> timestamp           </span>┃\n",
       "┡━━━━━━━╇━━━━━━━╇━━━━━━━━╇━━━━━━━━━━━╇━━━━━━━━━━━━━━━━━━━━━━━━╇━━━━━━━╇━━━━━━━━━━━━━━━━━━━━━┩\n",
       "│ <span style=\"color: #7f7f7f; text-decoration-color: #7f7f7f\">int32</span> │ <span style=\"color: #7f7f7f; text-decoration-color: #7f7f7f\">int32</span> │ <span style=\"color: #7f7f7f; text-decoration-color: #7f7f7f\">string</span> │ <span style=\"color: #7f7f7f; text-decoration-color: #7f7f7f\">string</span>    │ <span style=\"color: #7f7f7f; text-decoration-color: #7f7f7f\">string</span>                 │ <span style=\"color: #7f7f7f; text-decoration-color: #7f7f7f\">int32</span> │ <span style=\"color: #7f7f7f; text-decoration-color: #7f7f7f\">timestamp</span>           │\n",
       "├───────┼───────┼────────┼───────────┼────────────────────────┼───────┼─────────────────────┤\n",
       "│ <span style=\"color: #008080; text-decoration-color: #008080; font-weight: bold\">59425</span> │     <span style=\"color: #008080; text-decoration-color: #008080; font-weight: bold\">1</span> │ <span style=\"color: #008000; text-decoration-color: #008000\">Orc   </span> │ <span style=\"color: #008000; text-decoration-color: #008000\">Rogue    </span> │ <span style=\"color: #008000; text-decoration-color: #008000\">Orgrimmar             </span> │   <span style=\"color: #008080; text-decoration-color: #008080; font-weight: bold\">165</span> │ <span style=\"color: #800080; text-decoration-color: #800080\">2008-01-01 00:02:04</span> │\n",
       "│ <span style=\"color: #008080; text-decoration-color: #008080; font-weight: bold\">65494</span> │     <span style=\"color: #008080; text-decoration-color: #008080; font-weight: bold\">9</span> │ <span style=\"color: #008000; text-decoration-color: #008000\">Orc   </span> │ <span style=\"color: #008000; text-decoration-color: #008000\">Hunter   </span> │ <span style=\"color: #008000; text-decoration-color: #008000\">Durotar               </span> │    <span style=\"color: #008080; text-decoration-color: #008080; font-weight: bold\">-1</span> │ <span style=\"color: #800080; text-decoration-color: #800080\">2008-01-01 00:02:04</span> │\n",
       "│ <span style=\"color: #008080; text-decoration-color: #008080; font-weight: bold\">65325</span> │    <span style=\"color: #008080; text-decoration-color: #008080; font-weight: bold\">14</span> │ <span style=\"color: #008000; text-decoration-color: #008000\">Orc   </span> │ <span style=\"color: #008000; text-decoration-color: #008000\">Warrior  </span> │ <span style=\"color: #008000; text-decoration-color: #008000\">Ghostlands            </span> │    <span style=\"color: #008080; text-decoration-color: #008080; font-weight: bold\">-1</span> │ <span style=\"color: #800080; text-decoration-color: #800080\">2008-01-01 00:02:04</span> │\n",
       "│ <span style=\"color: #008080; text-decoration-color: #008080; font-weight: bold\">65490</span> │    <span style=\"color: #008080; text-decoration-color: #008080; font-weight: bold\">18</span> │ <span style=\"color: #008000; text-decoration-color: #008000\">Orc   </span> │ <span style=\"color: #008000; text-decoration-color: #008000\">Hunter   </span> │ <span style=\"color: #008000; text-decoration-color: #008000\">Ghostlands            </span> │    <span style=\"color: #008080; text-decoration-color: #008080; font-weight: bold\">-1</span> │ <span style=\"color: #800080; text-decoration-color: #800080\">2008-01-01 00:02:04</span> │\n",
       "│  <span style=\"color: #008080; text-decoration-color: #008080; font-weight: bold\">2288</span> │    <span style=\"color: #008080; text-decoration-color: #008080; font-weight: bold\">60</span> │ <span style=\"color: #008000; text-decoration-color: #008000\">Orc   </span> │ <span style=\"color: #008000; text-decoration-color: #008000\">Hunter   </span> │ <span style=\"color: #008000; text-decoration-color: #008000\">Hellfire Peninsula    </span> │    <span style=\"color: #008080; text-decoration-color: #008080; font-weight: bold\">-1</span> │ <span style=\"color: #800080; text-decoration-color: #800080\">2008-01-01 00:02:09</span> │\n",
       "│  <span style=\"color: #008080; text-decoration-color: #008080; font-weight: bold\">2289</span> │    <span style=\"color: #008080; text-decoration-color: #008080; font-weight: bold\">60</span> │ <span style=\"color: #008000; text-decoration-color: #008000\">Orc   </span> │ <span style=\"color: #008000; text-decoration-color: #008000\">Hunter   </span> │ <span style=\"color: #008000; text-decoration-color: #008000\">Hellfire Peninsula    </span> │    <span style=\"color: #008080; text-decoration-color: #008080; font-weight: bold\">-1</span> │ <span style=\"color: #800080; text-decoration-color: #800080\">2008-01-01 00:02:09</span> │\n",
       "│ <span style=\"color: #008080; text-decoration-color: #008080; font-weight: bold\">61239</span> │    <span style=\"color: #008080; text-decoration-color: #008080; font-weight: bold\">68</span> │ <span style=\"color: #008000; text-decoration-color: #008000\">Orc   </span> │ <span style=\"color: #008000; text-decoration-color: #008000\">Hunter   </span> │ <span style=\"color: #008000; text-decoration-color: #008000\">Blade's Edge Mountains</span> │   <span style=\"color: #008080; text-decoration-color: #008080; font-weight: bold\">243</span> │ <span style=\"color: #800080; text-decoration-color: #800080\">2008-01-01 00:02:14</span> │\n",
       "│ <span style=\"color: #008080; text-decoration-color: #008080; font-weight: bold\">59772</span> │    <span style=\"color: #008080; text-decoration-color: #008080; font-weight: bold\">69</span> │ <span style=\"color: #008000; text-decoration-color: #008000\">Orc   </span> │ <span style=\"color: #008000; text-decoration-color: #008000\">Warrior  </span> │ <span style=\"color: #008000; text-decoration-color: #008000\">Shadowmoon Valley     </span> │    <span style=\"color: #008080; text-decoration-color: #008080; font-weight: bold\">35</span> │ <span style=\"color: #800080; text-decoration-color: #800080\">2008-01-01 00:02:14</span> │\n",
       "│ <span style=\"color: #008080; text-decoration-color: #008080; font-weight: bold\">22937</span> │    <span style=\"color: #008080; text-decoration-color: #008080; font-weight: bold\">69</span> │ <span style=\"color: #008000; text-decoration-color: #008000\">Orc   </span> │ <span style=\"color: #008000; text-decoration-color: #008000\">Rogue    </span> │ <span style=\"color: #008000; text-decoration-color: #008000\">Warsong Gulch         </span> │   <span style=\"color: #008080; text-decoration-color: #008080; font-weight: bold\">243</span> │ <span style=\"color: #800080; text-decoration-color: #800080\">2008-01-01 00:02:14</span> │\n",
       "│ <span style=\"color: #008080; text-decoration-color: #008080; font-weight: bold\">23062</span> │    <span style=\"color: #008080; text-decoration-color: #008080; font-weight: bold\">69</span> │ <span style=\"color: #008000; text-decoration-color: #008000\">Orc   </span> │ <span style=\"color: #008000; text-decoration-color: #008000\">Shaman   </span> │ <span style=\"color: #008000; text-decoration-color: #008000\">Shattrath City        </span> │   <span style=\"color: #008080; text-decoration-color: #008080; font-weight: bold\">103</span> │ <span style=\"color: #800080; text-decoration-color: #800080\">2008-01-01 00:02:14</span> │\n",
       "│     <span style=\"color: #7f7f7f; text-decoration-color: #7f7f7f\">…</span> │     <span style=\"color: #7f7f7f; text-decoration-color: #7f7f7f\">…</span> │ <span style=\"color: #7f7f7f; text-decoration-color: #7f7f7f\">…</span>      │ <span style=\"color: #7f7f7f; text-decoration-color: #7f7f7f\">…</span>         │ <span style=\"color: #7f7f7f; text-decoration-color: #7f7f7f\">…</span>                      │     <span style=\"color: #7f7f7f; text-decoration-color: #7f7f7f\">…</span> │ <span style=\"color: #7f7f7f; text-decoration-color: #7f7f7f\">…</span>                   │\n",
       "└───────┴───────┴────────┴───────────┴────────────────────────┴───────┴─────────────────────┘\n",
       "</pre>\n"
      ],
      "text/plain": [
       "┏━━━━━━━┳━━━━━━━┳━━━━━━━━┳━━━━━━━━━━━┳━━━━━━━━━━━━━━━━━━━━━━━━┳━━━━━━━┳━━━━━━━━━━━━━━━━━━━━━┓\n",
       "┃\u001b[1m \u001b[0m\u001b[1mchar\u001b[0m\u001b[1m \u001b[0m\u001b[1m \u001b[0m┃\u001b[1m \u001b[0m\u001b[1mlevel\u001b[0m\u001b[1m \u001b[0m┃\u001b[1m \u001b[0m\u001b[1mrace\u001b[0m\u001b[1m  \u001b[0m\u001b[1m \u001b[0m┃\u001b[1m \u001b[0m\u001b[1mcharclass\u001b[0m\u001b[1m \u001b[0m┃\u001b[1m \u001b[0m\u001b[1mzone\u001b[0m\u001b[1m                  \u001b[0m\u001b[1m \u001b[0m┃\u001b[1m \u001b[0m\u001b[1mguild\u001b[0m\u001b[1m \u001b[0m┃\u001b[1m \u001b[0m\u001b[1mtimestamp\u001b[0m\u001b[1m          \u001b[0m\u001b[1m \u001b[0m┃\n",
       "┡━━━━━━━╇━━━━━━━╇━━━━━━━━╇━━━━━━━━━━━╇━━━━━━━━━━━━━━━━━━━━━━━━╇━━━━━━━╇━━━━━━━━━━━━━━━━━━━━━┩\n",
       "│ \u001b[2mint32\u001b[0m │ \u001b[2mint32\u001b[0m │ \u001b[2mstring\u001b[0m │ \u001b[2mstring\u001b[0m    │ \u001b[2mstring\u001b[0m                 │ \u001b[2mint32\u001b[0m │ \u001b[2mtimestamp\u001b[0m           │\n",
       "├───────┼───────┼────────┼───────────┼────────────────────────┼───────┼─────────────────────┤\n",
       "│ \u001b[1;36m59425\u001b[0m │     \u001b[1;36m1\u001b[0m │ \u001b[32mOrc   \u001b[0m │ \u001b[32mRogue    \u001b[0m │ \u001b[32mOrgrimmar             \u001b[0m │   \u001b[1;36m165\u001b[0m │ \u001b[35m2008-01-01 00:02:04\u001b[0m │\n",
       "│ \u001b[1;36m65494\u001b[0m │     \u001b[1;36m9\u001b[0m │ \u001b[32mOrc   \u001b[0m │ \u001b[32mHunter   \u001b[0m │ \u001b[32mDurotar               \u001b[0m │    \u001b[1;36m-1\u001b[0m │ \u001b[35m2008-01-01 00:02:04\u001b[0m │\n",
       "│ \u001b[1;36m65325\u001b[0m │    \u001b[1;36m14\u001b[0m │ \u001b[32mOrc   \u001b[0m │ \u001b[32mWarrior  \u001b[0m │ \u001b[32mGhostlands            \u001b[0m │    \u001b[1;36m-1\u001b[0m │ \u001b[35m2008-01-01 00:02:04\u001b[0m │\n",
       "│ \u001b[1;36m65490\u001b[0m │    \u001b[1;36m18\u001b[0m │ \u001b[32mOrc   \u001b[0m │ \u001b[32mHunter   \u001b[0m │ \u001b[32mGhostlands            \u001b[0m │    \u001b[1;36m-1\u001b[0m │ \u001b[35m2008-01-01 00:02:04\u001b[0m │\n",
       "│  \u001b[1;36m2288\u001b[0m │    \u001b[1;36m60\u001b[0m │ \u001b[32mOrc   \u001b[0m │ \u001b[32mHunter   \u001b[0m │ \u001b[32mHellfire Peninsula    \u001b[0m │    \u001b[1;36m-1\u001b[0m │ \u001b[35m2008-01-01 00:02:09\u001b[0m │\n",
       "│  \u001b[1;36m2289\u001b[0m │    \u001b[1;36m60\u001b[0m │ \u001b[32mOrc   \u001b[0m │ \u001b[32mHunter   \u001b[0m │ \u001b[32mHellfire Peninsula    \u001b[0m │    \u001b[1;36m-1\u001b[0m │ \u001b[35m2008-01-01 00:02:09\u001b[0m │\n",
       "│ \u001b[1;36m61239\u001b[0m │    \u001b[1;36m68\u001b[0m │ \u001b[32mOrc   \u001b[0m │ \u001b[32mHunter   \u001b[0m │ \u001b[32mBlade's Edge Mountains\u001b[0m │   \u001b[1;36m243\u001b[0m │ \u001b[35m2008-01-01 00:02:14\u001b[0m │\n",
       "│ \u001b[1;36m59772\u001b[0m │    \u001b[1;36m69\u001b[0m │ \u001b[32mOrc   \u001b[0m │ \u001b[32mWarrior  \u001b[0m │ \u001b[32mShadowmoon Valley     \u001b[0m │    \u001b[1;36m35\u001b[0m │ \u001b[35m2008-01-01 00:02:14\u001b[0m │\n",
       "│ \u001b[1;36m22937\u001b[0m │    \u001b[1;36m69\u001b[0m │ \u001b[32mOrc   \u001b[0m │ \u001b[32mRogue    \u001b[0m │ \u001b[32mWarsong Gulch         \u001b[0m │   \u001b[1;36m243\u001b[0m │ \u001b[35m2008-01-01 00:02:14\u001b[0m │\n",
       "│ \u001b[1;36m23062\u001b[0m │    \u001b[1;36m69\u001b[0m │ \u001b[32mOrc   \u001b[0m │ \u001b[32mShaman   \u001b[0m │ \u001b[32mShattrath City        \u001b[0m │   \u001b[1;36m103\u001b[0m │ \u001b[35m2008-01-01 00:02:14\u001b[0m │\n",
       "│     \u001b[2m…\u001b[0m │     \u001b[2m…\u001b[0m │ \u001b[2m…\u001b[0m      │ \u001b[2m…\u001b[0m         │ \u001b[2m…\u001b[0m                      │     \u001b[2m…\u001b[0m │ \u001b[2m…\u001b[0m                   │\n",
       "└───────┴───────┴────────┴───────────┴────────────────────────┴───────┴─────────────────────┘"
      ]
     },
     "execution_count": 4,
     "metadata": {},
     "output_type": "execute_result"
    }
   ],
   "source": [
    "wow"
   ]
  },
  {
   "cell_type": "markdown",
   "metadata": {},
   "source": [
    "What is the max level?"
   ]
  },
  {
   "cell_type": "code",
   "execution_count": 5,
   "metadata": {},
   "outputs": [
    {
     "data": {
      "text/html": [
       "<pre style=\"white-space:pre;overflow-x:auto;line-height:normal;font-family:Menlo,'DejaVu Sans Mono',consolas,'Courier New',monospace\"></pre>\n"
      ],
      "text/plain": []
     },
     "metadata": {},
     "output_type": "display_data"
    },
    {
     "data": {
      "text/plain": [
       "\u001b[1;36m80\u001b[0m"
      ]
     },
     "execution_count": 5,
     "metadata": {},
     "output_type": "execute_result"
    }
   ],
   "source": [
    "wow.level.max()"
   ]
  },
  {
   "cell_type": "markdown",
   "metadata": {},
   "source": [
    "It's 80. But when was the first level 80 achieved?"
   ]
  },
  {
   "cell_type": "code",
   "execution_count": 7,
   "metadata": {},
   "outputs": [
    {
     "data": {
      "text/html": [
       "<pre style=\"white-space:pre;overflow-x:auto;line-height:normal;font-family:Menlo,'DejaVu Sans Mono',consolas,'Courier New',monospace\">┏━━━━━━━━━━━━━━━━━━━━━┓\n",
       "┃<span style=\"font-weight: bold\"> Min(timestamp)      </span>┃\n",
       "┡━━━━━━━━━━━━━━━━━━━━━┩\n",
       "│ <span style=\"color: #7f7f7f; text-decoration-color: #7f7f7f\">timestamp</span>           │\n",
       "├─────────────────────┤\n",
       "│ <span style=\"color: #800080; text-decoration-color: #800080\">2008-11-21 11:45:35</span> │\n",
       "└─────────────────────┘\n",
       "</pre>\n"
      ],
      "text/plain": [
       "┏━━━━━━━━━━━━━━━━━━━━━┓\n",
       "┃\u001b[1m \u001b[0m\u001b[1mMin(timestamp)\u001b[0m\u001b[1m     \u001b[0m\u001b[1m \u001b[0m┃\n",
       "┡━━━━━━━━━━━━━━━━━━━━━┩\n",
       "│ \u001b[2mtimestamp\u001b[0m           │\n",
       "├─────────────────────┤\n",
       "│ \u001b[35m2008-11-21 11:45:35\u001b[0m │\n",
       "└─────────────────────┘"
      ]
     },
     "execution_count": 7,
     "metadata": {},
     "output_type": "execute_result"
    }
   ],
   "source": [
    "wow.filter(_.level == 80).agg(_.timestamp.min())"
   ]
  },
  {
   "cell_type": "code",
   "execution_count": 10,
   "metadata": {},
   "outputs": [
    {
     "data": {
      "text/html": [
       "<pre style=\"white-space:pre;overflow-x:auto;line-height:normal;font-family:Menlo,'DejaVu Sans Mono',consolas,'Courier New',monospace\">┏━━━━━━━━━━━━┓\n",
       "┃<span style=\"font-weight: bold\"> Max(level) </span>┃\n",
       "┡━━━━━━━━━━━━┩\n",
       "│ <span style=\"color: #7f7f7f; text-decoration-color: #7f7f7f\">int32</span>      │\n",
       "├────────────┤\n",
       "│         <span style=\"color: #008080; text-decoration-color: #008080; font-weight: bold\">79</span> │\n",
       "└────────────┘\n",
       "</pre>\n"
      ],
      "text/plain": [
       "┏━━━━━━━━━━━━┓\n",
       "┃\u001b[1m \u001b[0m\u001b[1mMax(level)\u001b[0m\u001b[1m \u001b[0m┃\n",
       "┡━━━━━━━━━━━━┩\n",
       "│ \u001b[2mint32\u001b[0m      │\n",
       "├────────────┤\n",
       "│         \u001b[1;36m79\u001b[0m │\n",
       "└────────────┘"
      ]
     },
     "execution_count": 10,
     "metadata": {},
     "output_type": "execute_result"
    }
   ],
   "source": [
    "wow.filter(_.timestamp < '2008-11-21 11:45:35').agg(_.level.max())"
   ]
  },
  {
   "cell_type": "markdown",
   "metadata": {},
   "source": [
    "Who was the first level 80? Which character ID?"
   ]
  }
 ],
 "metadata": {
  "kernelspec": {
   "display_name": "Python 3",
   "language": "python",
   "name": "python3"
  },
  "language_info": {
   "codemirror_mode": {
    "name": "ipython",
    "version": 3
   },
   "file_extension": ".py",
   "mimetype": "text/x-python",
   "name": "python",
   "nbconvert_exporter": "python",
   "pygments_lexer": "ipython3",
   "version": "3.10.13"
  }
 },
 "nbformat": 4,
 "nbformat_minor": 2
}
