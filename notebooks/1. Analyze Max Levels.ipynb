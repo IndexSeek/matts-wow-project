{
 "cells": [
  {
   "cell_type": "code",
   "execution_count": 13,
   "metadata": {},
   "outputs": [
    {
     "name": "stdout",
     "output_type": "stream",
     "text": [
      "Requirement already satisfied: ibis-framework[duckdb] in /usr/local/python/3.10.13/lib/python3.10/site-packages (7.2.0)\n",
      "Requirement already satisfied: atpublic<5,>=2.3 in /usr/local/python/3.10.13/lib/python3.10/site-packages (from ibis-framework[duckdb]) (4.0)\n",
      "Requirement already satisfied: bidict<1,>=0.22.1 in /usr/local/python/3.10.13/lib/python3.10/site-packages (from ibis-framework[duckdb]) (0.22.1)\n",
      "Requirement already satisfied: filelock<4,>=3.7.0 in /home/codespace/.local/lib/python3.10/site-packages (from ibis-framework[duckdb]) (3.13.1)\n",
      "Requirement already satisfied: multipledispatch<2,>=0.6 in /usr/local/python/3.10.13/lib/python3.10/site-packages (from ibis-framework[duckdb]) (1.0.0)\n",
      "Requirement already satisfied: numpy<2,>=1 in /home/codespace/.local/lib/python3.10/site-packages (from ibis-framework[duckdb]) (1.26.2)\n",
      "Requirement already satisfied: pandas<3,>=1.2.5 in /home/codespace/.local/lib/python3.10/site-packages (from ibis-framework[duckdb]) (2.1.3)\n",
      "Requirement already satisfied: parsy<3,>=2 in /usr/local/python/3.10.13/lib/python3.10/site-packages (from ibis-framework[duckdb]) (2.1)\n",
      "Requirement already satisfied: pins<1,>=0.8.3 in /usr/local/python/3.10.13/lib/python3.10/site-packages (from pins[gcs]<1,>=0.8.3->ibis-framework[duckdb]) (0.8.3)\n",
      "Requirement already satisfied: pyarrow<15,>=2 in /usr/local/python/3.10.13/lib/python3.10/site-packages (from ibis-framework[duckdb]) (14.0.2)\n",
      "Requirement already satisfied: pyarrow-hotfix<1,>=0.4 in /usr/local/python/3.10.13/lib/python3.10/site-packages (from ibis-framework[duckdb]) (0.6)\n",
      "Requirement already satisfied: python-dateutil<3,>=2.8.2 in /home/codespace/.local/lib/python3.10/site-packages (from ibis-framework[duckdb]) (2.8.2)\n",
      "Requirement already satisfied: pytz>=2022.7 in /home/codespace/.local/lib/python3.10/site-packages (from ibis-framework[duckdb]) (2023.3.post1)\n",
      "Requirement already satisfied: rich<14,>=12.4.4 in /usr/local/python/3.10.13/lib/python3.10/site-packages (from ibis-framework[duckdb]) (13.7.0)\n",
      "Requirement already satisfied: sqlglot<21,>=18.12.0 in /usr/local/python/3.10.13/lib/python3.10/site-packages (from ibis-framework[duckdb]) (20.5.0)\n",
      "Requirement already satisfied: toolz<1,>=0.11 in /usr/local/python/3.10.13/lib/python3.10/site-packages (from ibis-framework[duckdb]) (0.12.0)\n",
      "Requirement already satisfied: typing-extensions<5,>=4.3.0 in /home/codespace/.local/lib/python3.10/site-packages (from ibis-framework[duckdb]) (4.8.0)\n",
      "Requirement already satisfied: duckdb<1,>=0.8.1 in /usr/local/python/3.10.13/lib/python3.10/site-packages (from ibis-framework[duckdb]) (0.9.2)\n",
      "Requirement already satisfied: duckdb-engine<1,>=0.1.8 in /usr/local/python/3.10.13/lib/python3.10/site-packages (from ibis-framework[duckdb]) (0.10.0)\n",
      "Requirement already satisfied: sqlalchemy<3,>=1.4 in /usr/local/python/3.10.13/lib/python3.10/site-packages (from ibis-framework[duckdb]) (2.0.25)\n",
      "Requirement already satisfied: sqlalchemy-views<1,>=0.3.1 in /usr/local/python/3.10.13/lib/python3.10/site-packages (from ibis-framework[duckdb]) (0.3.2)\n",
      "Requirement already satisfied: tzdata>=2022.1 in /home/codespace/.local/lib/python3.10/site-packages (from pandas<3,>=1.2.5->ibis-framework[duckdb]) (2023.3)\n",
      "Requirement already satisfied: fsspec<2023.9.0,>=0.8.0 in /usr/local/python/3.10.13/lib/python3.10/site-packages (from pins<1,>=0.8.3->pins[gcs]<1,>=0.8.3->ibis-framework[duckdb]) (2023.6.0)\n",
      "Requirement already satisfied: pyyaml>=3.13 in /home/codespace/.local/lib/python3.10/site-packages (from pins<1,>=0.8.3->pins[gcs]<1,>=0.8.3->ibis-framework[duckdb]) (6.0.1)\n",
      "Requirement already satisfied: xxhash>=1.0.0 in /usr/local/python/3.10.13/lib/python3.10/site-packages (from pins<1,>=0.8.3->pins[gcs]<1,>=0.8.3->ibis-framework[duckdb]) (3.4.1)\n",
      "Requirement already satisfied: jinja2>=2.10.0 in /home/codespace/.local/lib/python3.10/site-packages (from pins<1,>=0.8.3->pins[gcs]<1,>=0.8.3->ibis-framework[duckdb]) (3.1.2)\n",
      "Requirement already satisfied: joblib>=0.12.0 in /home/codespace/.local/lib/python3.10/site-packages (from pins<1,>=0.8.3->pins[gcs]<1,>=0.8.3->ibis-framework[duckdb]) (1.3.2)\n",
      "Requirement already satisfied: importlib-metadata>=4.4 in /usr/local/python/3.10.13/lib/python3.10/site-packages (from pins<1,>=0.8.3->pins[gcs]<1,>=0.8.3->ibis-framework[duckdb]) (7.0.1)\n",
      "Requirement already satisfied: importlib-resources>=1.3 in /usr/local/python/3.10.13/lib/python3.10/site-packages (from pins<1,>=0.8.3->pins[gcs]<1,>=0.8.3->ibis-framework[duckdb]) (6.1.1)\n",
      "Requirement already satisfied: appdirs<2.0.0 in /usr/local/python/3.10.13/lib/python3.10/site-packages (from pins<1,>=0.8.3->pins[gcs]<1,>=0.8.3->ibis-framework[duckdb]) (1.4.4)\n",
      "Requirement already satisfied: humanize>=1.0.0 in /usr/local/python/3.10.13/lib/python3.10/site-packages (from pins<1,>=0.8.3->pins[gcs]<1,>=0.8.3->ibis-framework[duckdb]) (4.9.0)\n",
      "Requirement already satisfied: requests in /home/codespace/.local/lib/python3.10/site-packages (from pins<1,>=0.8.3->pins[gcs]<1,>=0.8.3->ibis-framework[duckdb]) (2.31.0)\n",
      "Requirement already satisfied: gcsfs in /usr/local/python/3.10.13/lib/python3.10/site-packages (from pins[gcs]<1,>=0.8.3->ibis-framework[duckdb]) (2023.6.0)\n",
      "Requirement already satisfied: six>=1.5 in /home/codespace/.local/lib/python3.10/site-packages (from python-dateutil<3,>=2.8.2->ibis-framework[duckdb]) (1.16.0)\n",
      "Requirement already satisfied: markdown-it-py>=2.2.0 in /usr/local/python/3.10.13/lib/python3.10/site-packages (from rich<14,>=12.4.4->ibis-framework[duckdb]) (3.0.0)\n",
      "Requirement already satisfied: pygments<3.0.0,>=2.13.0 in /home/codespace/.local/lib/python3.10/site-packages (from rich<14,>=12.4.4->ibis-framework[duckdb]) (2.17.2)\n",
      "Requirement already satisfied: greenlet!=0.4.17 in /usr/local/python/3.10.13/lib/python3.10/site-packages (from sqlalchemy<3,>=1.4->ibis-framework[duckdb]) (3.0.3)\n",
      "Requirement already satisfied: zipp>=0.5 in /usr/local/python/3.10.13/lib/python3.10/site-packages (from importlib-metadata>=4.4->pins<1,>=0.8.3->pins[gcs]<1,>=0.8.3->ibis-framework[duckdb]) (3.17.0)\n",
      "Requirement already satisfied: MarkupSafe>=2.0 in /home/codespace/.local/lib/python3.10/site-packages (from jinja2>=2.10.0->pins<1,>=0.8.3->pins[gcs]<1,>=0.8.3->ibis-framework[duckdb]) (2.1.3)\n",
      "Requirement already satisfied: mdurl~=0.1 in /usr/local/python/3.10.13/lib/python3.10/site-packages (from markdown-it-py>=2.2.0->rich<14,>=12.4.4->ibis-framework[duckdb]) (0.1.2)\n",
      "Requirement already satisfied: aiohttp!=4.0.0a0,!=4.0.0a1 in /usr/local/python/3.10.13/lib/python3.10/site-packages (from gcsfs->pins[gcs]<1,>=0.8.3->ibis-framework[duckdb]) (3.9.1)\n",
      "Requirement already satisfied: decorator>4.1.2 in /home/codespace/.local/lib/python3.10/site-packages (from gcsfs->pins[gcs]<1,>=0.8.3->ibis-framework[duckdb]) (5.1.1)\n",
      "Requirement already satisfied: google-auth>=1.2 in /usr/local/python/3.10.13/lib/python3.10/site-packages (from gcsfs->pins[gcs]<1,>=0.8.3->ibis-framework[duckdb]) (2.25.2)\n",
      "Requirement already satisfied: google-auth-oauthlib in /usr/local/python/3.10.13/lib/python3.10/site-packages (from gcsfs->pins[gcs]<1,>=0.8.3->ibis-framework[duckdb]) (1.2.0)\n",
      "Requirement already satisfied: google-cloud-storage in /usr/local/python/3.10.13/lib/python3.10/site-packages (from gcsfs->pins[gcs]<1,>=0.8.3->ibis-framework[duckdb]) (2.14.0)\n",
      "Requirement already satisfied: charset-normalizer<4,>=2 in /home/codespace/.local/lib/python3.10/site-packages (from requests->pins<1,>=0.8.3->pins[gcs]<1,>=0.8.3->ibis-framework[duckdb]) (3.3.2)\n",
      "Requirement already satisfied: idna<4,>=2.5 in /home/codespace/.local/lib/python3.10/site-packages (from requests->pins<1,>=0.8.3->pins[gcs]<1,>=0.8.3->ibis-framework[duckdb]) (3.6)\n",
      "Requirement already satisfied: urllib3<3,>=1.21.1 in /usr/local/python/3.10.13/lib/python3.10/site-packages (from requests->pins<1,>=0.8.3->pins[gcs]<1,>=0.8.3->ibis-framework[duckdb]) (2.0.7)\n",
      "Requirement already satisfied: certifi>=2017.4.17 in /home/codespace/.local/lib/python3.10/site-packages (from requests->pins<1,>=0.8.3->pins[gcs]<1,>=0.8.3->ibis-framework[duckdb]) (2023.11.17)\n",
      "Requirement already satisfied: attrs>=17.3.0 in /home/codespace/.local/lib/python3.10/site-packages (from aiohttp!=4.0.0a0,!=4.0.0a1->gcsfs->pins[gcs]<1,>=0.8.3->ibis-framework[duckdb]) (23.1.0)\n",
      "Requirement already satisfied: multidict<7.0,>=4.5 in /usr/local/python/3.10.13/lib/python3.10/site-packages (from aiohttp!=4.0.0a0,!=4.0.0a1->gcsfs->pins[gcs]<1,>=0.8.3->ibis-framework[duckdb]) (6.0.4)\n",
      "Requirement already satisfied: yarl<2.0,>=1.0 in /usr/local/python/3.10.13/lib/python3.10/site-packages (from aiohttp!=4.0.0a0,!=4.0.0a1->gcsfs->pins[gcs]<1,>=0.8.3->ibis-framework[duckdb]) (1.9.4)\n",
      "Requirement already satisfied: frozenlist>=1.1.1 in /usr/local/python/3.10.13/lib/python3.10/site-packages (from aiohttp!=4.0.0a0,!=4.0.0a1->gcsfs->pins[gcs]<1,>=0.8.3->ibis-framework[duckdb]) (1.4.1)\n",
      "Requirement already satisfied: aiosignal>=1.1.2 in /usr/local/python/3.10.13/lib/python3.10/site-packages (from aiohttp!=4.0.0a0,!=4.0.0a1->gcsfs->pins[gcs]<1,>=0.8.3->ibis-framework[duckdb]) (1.3.1)\n",
      "Requirement already satisfied: async-timeout<5.0,>=4.0 in /usr/local/python/3.10.13/lib/python3.10/site-packages (from aiohttp!=4.0.0a0,!=4.0.0a1->gcsfs->pins[gcs]<1,>=0.8.3->ibis-framework[duckdb]) (4.0.3)\n",
      "Requirement already satisfied: cachetools<6.0,>=2.0.0 in /usr/local/python/3.10.13/lib/python3.10/site-packages (from google-auth>=1.2->gcsfs->pins[gcs]<1,>=0.8.3->ibis-framework[duckdb]) (5.3.2)\n",
      "Requirement already satisfied: pyasn1-modules>=0.2.1 in /usr/local/python/3.10.13/lib/python3.10/site-packages (from google-auth>=1.2->gcsfs->pins[gcs]<1,>=0.8.3->ibis-framework[duckdb]) (0.3.0)\n",
      "Requirement already satisfied: rsa<5,>=3.1.4 in /usr/local/python/3.10.13/lib/python3.10/site-packages (from google-auth>=1.2->gcsfs->pins[gcs]<1,>=0.8.3->ibis-framework[duckdb]) (4.9)\n",
      "Requirement already satisfied: requests-oauthlib>=0.7.0 in /usr/local/python/3.10.13/lib/python3.10/site-packages (from google-auth-oauthlib->gcsfs->pins[gcs]<1,>=0.8.3->ibis-framework[duckdb]) (1.3.1)\n",
      "Requirement already satisfied: google-api-core!=2.0.*,!=2.1.*,!=2.2.*,!=2.3.0,<3.0.0dev,>=1.31.5 in /usr/local/python/3.10.13/lib/python3.10/site-packages (from google-cloud-storage->gcsfs->pins[gcs]<1,>=0.8.3->ibis-framework[duckdb]) (2.15.0)\n",
      "Requirement already satisfied: google-cloud-core<3.0dev,>=2.3.0 in /usr/local/python/3.10.13/lib/python3.10/site-packages (from google-cloud-storage->gcsfs->pins[gcs]<1,>=0.8.3->ibis-framework[duckdb]) (2.4.1)\n",
      "Requirement already satisfied: google-resumable-media>=2.6.0 in /usr/local/python/3.10.13/lib/python3.10/site-packages (from google-cloud-storage->gcsfs->pins[gcs]<1,>=0.8.3->ibis-framework[duckdb]) (2.7.0)\n",
      "Requirement already satisfied: google-crc32c<2.0dev,>=1.0 in /usr/local/python/3.10.13/lib/python3.10/site-packages (from google-cloud-storage->gcsfs->pins[gcs]<1,>=0.8.3->ibis-framework[duckdb]) (1.5.0)\n",
      "Requirement already satisfied: googleapis-common-protos<2.0.dev0,>=1.56.2 in /usr/local/python/3.10.13/lib/python3.10/site-packages (from google-api-core!=2.0.*,!=2.1.*,!=2.2.*,!=2.3.0,<3.0.0dev,>=1.31.5->google-cloud-storage->gcsfs->pins[gcs]<1,>=0.8.3->ibis-framework[duckdb]) (1.62.0)\n",
      "Requirement already satisfied: protobuf!=3.20.0,!=3.20.1,!=4.21.0,!=4.21.1,!=4.21.2,!=4.21.3,!=4.21.4,!=4.21.5,<5.0.0.dev0,>=3.19.5 in /usr/local/python/3.10.13/lib/python3.10/site-packages (from google-api-core!=2.0.*,!=2.1.*,!=2.2.*,!=2.3.0,<3.0.0dev,>=1.31.5->google-cloud-storage->gcsfs->pins[gcs]<1,>=0.8.3->ibis-framework[duckdb]) (4.25.1)\n",
      "Requirement already satisfied: pyasn1<0.6.0,>=0.4.6 in /usr/local/python/3.10.13/lib/python3.10/site-packages (from pyasn1-modules>=0.2.1->google-auth>=1.2->gcsfs->pins[gcs]<1,>=0.8.3->ibis-framework[duckdb]) (0.5.1)\n",
      "Requirement already satisfied: oauthlib>=3.0.0 in /usr/local/python/3.10.13/lib/python3.10/site-packages (from requests-oauthlib>=0.7.0->google-auth-oauthlib->gcsfs->pins[gcs]<1,>=0.8.3->ibis-framework[duckdb]) (3.2.2)\n",
      "\n",
      "\u001b[1m[\u001b[0m\u001b[34;49mnotice\u001b[0m\u001b[1;39;49m]\u001b[0m\u001b[39;49m A new release of pip is available: \u001b[0m\u001b[31;49m23.3.1\u001b[0m\u001b[39;49m -> \u001b[0m\u001b[32;49m23.3.2\u001b[0m\n",
      "\u001b[1m[\u001b[0m\u001b[34;49mnotice\u001b[0m\u001b[1;39;49m]\u001b[0m\u001b[39;49m To update, run: \u001b[0m\u001b[32;49mpython -m pip install --upgrade pip\u001b[0m\n"
     ]
    }
   ],
   "source": [
    "!pip install ibis-framework[duckdb]"
   ]
  },
  {
   "cell_type": "code",
   "execution_count": 14,
   "metadata": {},
   "outputs": [],
   "source": [
    "from ibis.interactive import *"
   ]
  },
  {
   "cell_type": "code",
   "execution_count": 15,
   "metadata": {},
   "outputs": [],
   "source": [
    "wow = ex.wowah_data_raw.fetch()"
   ]
  },
  {
   "cell_type": "code",
   "execution_count": 16,
   "metadata": {},
   "outputs": [
    {
     "data": {
      "text/html": [
       "<pre style=\"white-space:pre;overflow-x:auto;line-height:normal;font-family:Menlo,'DejaVu Sans Mono',consolas,'Courier New',monospace\">┏━━━━━━━┳━━━━━━━┳━━━━━━━━┳━━━━━━━━━━━┳━━━━━━━━━━━━━━━━━━━━━━━━┳━━━━━━━┳━━━━━━━━━━━━━━━━━━━━━┓\n",
       "┃<span style=\"font-weight: bold\"> char  </span>┃<span style=\"font-weight: bold\"> level </span>┃<span style=\"font-weight: bold\"> race   </span>┃<span style=\"font-weight: bold\"> charclass </span>┃<span style=\"font-weight: bold\"> zone                   </span>┃<span style=\"font-weight: bold\"> guild </span>┃<span style=\"font-weight: bold\"> timestamp           </span>┃\n",
       "┡━━━━━━━╇━━━━━━━╇━━━━━━━━╇━━━━━━━━━━━╇━━━━━━━━━━━━━━━━━━━━━━━━╇━━━━━━━╇━━━━━━━━━━━━━━━━━━━━━┩\n",
       "│ <span style=\"color: #7f7f7f; text-decoration-color: #7f7f7f\">int32</span> │ <span style=\"color: #7f7f7f; text-decoration-color: #7f7f7f\">int32</span> │ <span style=\"color: #7f7f7f; text-decoration-color: #7f7f7f\">string</span> │ <span style=\"color: #7f7f7f; text-decoration-color: #7f7f7f\">string</span>    │ <span style=\"color: #7f7f7f; text-decoration-color: #7f7f7f\">string</span>                 │ <span style=\"color: #7f7f7f; text-decoration-color: #7f7f7f\">int32</span> │ <span style=\"color: #7f7f7f; text-decoration-color: #7f7f7f\">timestamp</span>           │\n",
       "├───────┼───────┼────────┼───────────┼────────────────────────┼───────┼─────────────────────┤\n",
       "│ <span style=\"color: #008080; text-decoration-color: #008080; font-weight: bold\">59425</span> │     <span style=\"color: #008080; text-decoration-color: #008080; font-weight: bold\">1</span> │ <span style=\"color: #008000; text-decoration-color: #008000\">Orc   </span> │ <span style=\"color: #008000; text-decoration-color: #008000\">Rogue    </span> │ <span style=\"color: #008000; text-decoration-color: #008000\">Orgrimmar             </span> │   <span style=\"color: #008080; text-decoration-color: #008080; font-weight: bold\">165</span> │ <span style=\"color: #800080; text-decoration-color: #800080\">2008-01-01 00:02:04</span> │\n",
       "│ <span style=\"color: #008080; text-decoration-color: #008080; font-weight: bold\">65494</span> │     <span style=\"color: #008080; text-decoration-color: #008080; font-weight: bold\">9</span> │ <span style=\"color: #008000; text-decoration-color: #008000\">Orc   </span> │ <span style=\"color: #008000; text-decoration-color: #008000\">Hunter   </span> │ <span style=\"color: #008000; text-decoration-color: #008000\">Durotar               </span> │    <span style=\"color: #008080; text-decoration-color: #008080; font-weight: bold\">-1</span> │ <span style=\"color: #800080; text-decoration-color: #800080\">2008-01-01 00:02:04</span> │\n",
       "│ <span style=\"color: #008080; text-decoration-color: #008080; font-weight: bold\">65325</span> │    <span style=\"color: #008080; text-decoration-color: #008080; font-weight: bold\">14</span> │ <span style=\"color: #008000; text-decoration-color: #008000\">Orc   </span> │ <span style=\"color: #008000; text-decoration-color: #008000\">Warrior  </span> │ <span style=\"color: #008000; text-decoration-color: #008000\">Ghostlands            </span> │    <span style=\"color: #008080; text-decoration-color: #008080; font-weight: bold\">-1</span> │ <span style=\"color: #800080; text-decoration-color: #800080\">2008-01-01 00:02:04</span> │\n",
       "│ <span style=\"color: #008080; text-decoration-color: #008080; font-weight: bold\">65490</span> │    <span style=\"color: #008080; text-decoration-color: #008080; font-weight: bold\">18</span> │ <span style=\"color: #008000; text-decoration-color: #008000\">Orc   </span> │ <span style=\"color: #008000; text-decoration-color: #008000\">Hunter   </span> │ <span style=\"color: #008000; text-decoration-color: #008000\">Ghostlands            </span> │    <span style=\"color: #008080; text-decoration-color: #008080; font-weight: bold\">-1</span> │ <span style=\"color: #800080; text-decoration-color: #800080\">2008-01-01 00:02:04</span> │\n",
       "│  <span style=\"color: #008080; text-decoration-color: #008080; font-weight: bold\">2288</span> │    <span style=\"color: #008080; text-decoration-color: #008080; font-weight: bold\">60</span> │ <span style=\"color: #008000; text-decoration-color: #008000\">Orc   </span> │ <span style=\"color: #008000; text-decoration-color: #008000\">Hunter   </span> │ <span style=\"color: #008000; text-decoration-color: #008000\">Hellfire Peninsula    </span> │    <span style=\"color: #008080; text-decoration-color: #008080; font-weight: bold\">-1</span> │ <span style=\"color: #800080; text-decoration-color: #800080\">2008-01-01 00:02:09</span> │\n",
       "│  <span style=\"color: #008080; text-decoration-color: #008080; font-weight: bold\">2289</span> │    <span style=\"color: #008080; text-decoration-color: #008080; font-weight: bold\">60</span> │ <span style=\"color: #008000; text-decoration-color: #008000\">Orc   </span> │ <span style=\"color: #008000; text-decoration-color: #008000\">Hunter   </span> │ <span style=\"color: #008000; text-decoration-color: #008000\">Hellfire Peninsula    </span> │    <span style=\"color: #008080; text-decoration-color: #008080; font-weight: bold\">-1</span> │ <span style=\"color: #800080; text-decoration-color: #800080\">2008-01-01 00:02:09</span> │\n",
       "│ <span style=\"color: #008080; text-decoration-color: #008080; font-weight: bold\">61239</span> │    <span style=\"color: #008080; text-decoration-color: #008080; font-weight: bold\">68</span> │ <span style=\"color: #008000; text-decoration-color: #008000\">Orc   </span> │ <span style=\"color: #008000; text-decoration-color: #008000\">Hunter   </span> │ <span style=\"color: #008000; text-decoration-color: #008000\">Blade's Edge Mountains</span> │   <span style=\"color: #008080; text-decoration-color: #008080; font-weight: bold\">243</span> │ <span style=\"color: #800080; text-decoration-color: #800080\">2008-01-01 00:02:14</span> │\n",
       "│ <span style=\"color: #008080; text-decoration-color: #008080; font-weight: bold\">59772</span> │    <span style=\"color: #008080; text-decoration-color: #008080; font-weight: bold\">69</span> │ <span style=\"color: #008000; text-decoration-color: #008000\">Orc   </span> │ <span style=\"color: #008000; text-decoration-color: #008000\">Warrior  </span> │ <span style=\"color: #008000; text-decoration-color: #008000\">Shadowmoon Valley     </span> │    <span style=\"color: #008080; text-decoration-color: #008080; font-weight: bold\">35</span> │ <span style=\"color: #800080; text-decoration-color: #800080\">2008-01-01 00:02:14</span> │\n",
       "│ <span style=\"color: #008080; text-decoration-color: #008080; font-weight: bold\">22937</span> │    <span style=\"color: #008080; text-decoration-color: #008080; font-weight: bold\">69</span> │ <span style=\"color: #008000; text-decoration-color: #008000\">Orc   </span> │ <span style=\"color: #008000; text-decoration-color: #008000\">Rogue    </span> │ <span style=\"color: #008000; text-decoration-color: #008000\">Warsong Gulch         </span> │   <span style=\"color: #008080; text-decoration-color: #008080; font-weight: bold\">243</span> │ <span style=\"color: #800080; text-decoration-color: #800080\">2008-01-01 00:02:14</span> │\n",
       "│ <span style=\"color: #008080; text-decoration-color: #008080; font-weight: bold\">23062</span> │    <span style=\"color: #008080; text-decoration-color: #008080; font-weight: bold\">69</span> │ <span style=\"color: #008000; text-decoration-color: #008000\">Orc   </span> │ <span style=\"color: #008000; text-decoration-color: #008000\">Shaman   </span> │ <span style=\"color: #008000; text-decoration-color: #008000\">Shattrath City        </span> │   <span style=\"color: #008080; text-decoration-color: #008080; font-weight: bold\">103</span> │ <span style=\"color: #800080; text-decoration-color: #800080\">2008-01-01 00:02:14</span> │\n",
       "│     <span style=\"color: #7f7f7f; text-decoration-color: #7f7f7f\">…</span> │     <span style=\"color: #7f7f7f; text-decoration-color: #7f7f7f\">…</span> │ <span style=\"color: #7f7f7f; text-decoration-color: #7f7f7f\">…</span>      │ <span style=\"color: #7f7f7f; text-decoration-color: #7f7f7f\">…</span>         │ <span style=\"color: #7f7f7f; text-decoration-color: #7f7f7f\">…</span>                      │     <span style=\"color: #7f7f7f; text-decoration-color: #7f7f7f\">…</span> │ <span style=\"color: #7f7f7f; text-decoration-color: #7f7f7f\">…</span>                   │\n",
       "└───────┴───────┴────────┴───────────┴────────────────────────┴───────┴─────────────────────┘\n",
       "</pre>\n"
      ],
      "text/plain": [
       "┏━━━━━━━┳━━━━━━━┳━━━━━━━━┳━━━━━━━━━━━┳━━━━━━━━━━━━━━━━━━━━━━━━┳━━━━━━━┳━━━━━━━━━━━━━━━━━━━━━┓\n",
       "┃\u001b[1m \u001b[0m\u001b[1mchar\u001b[0m\u001b[1m \u001b[0m\u001b[1m \u001b[0m┃\u001b[1m \u001b[0m\u001b[1mlevel\u001b[0m\u001b[1m \u001b[0m┃\u001b[1m \u001b[0m\u001b[1mrace\u001b[0m\u001b[1m  \u001b[0m\u001b[1m \u001b[0m┃\u001b[1m \u001b[0m\u001b[1mcharclass\u001b[0m\u001b[1m \u001b[0m┃\u001b[1m \u001b[0m\u001b[1mzone\u001b[0m\u001b[1m                  \u001b[0m\u001b[1m \u001b[0m┃\u001b[1m \u001b[0m\u001b[1mguild\u001b[0m\u001b[1m \u001b[0m┃\u001b[1m \u001b[0m\u001b[1mtimestamp\u001b[0m\u001b[1m          \u001b[0m\u001b[1m \u001b[0m┃\n",
       "┡━━━━━━━╇━━━━━━━╇━━━━━━━━╇━━━━━━━━━━━╇━━━━━━━━━━━━━━━━━━━━━━━━╇━━━━━━━╇━━━━━━━━━━━━━━━━━━━━━┩\n",
       "│ \u001b[2mint32\u001b[0m │ \u001b[2mint32\u001b[0m │ \u001b[2mstring\u001b[0m │ \u001b[2mstring\u001b[0m    │ \u001b[2mstring\u001b[0m                 │ \u001b[2mint32\u001b[0m │ \u001b[2mtimestamp\u001b[0m           │\n",
       "├───────┼───────┼────────┼───────────┼────────────────────────┼───────┼─────────────────────┤\n",
       "│ \u001b[1;36m59425\u001b[0m │     \u001b[1;36m1\u001b[0m │ \u001b[32mOrc   \u001b[0m │ \u001b[32mRogue    \u001b[0m │ \u001b[32mOrgrimmar             \u001b[0m │   \u001b[1;36m165\u001b[0m │ \u001b[35m2008-01-01 00:02:04\u001b[0m │\n",
       "│ \u001b[1;36m65494\u001b[0m │     \u001b[1;36m9\u001b[0m │ \u001b[32mOrc   \u001b[0m │ \u001b[32mHunter   \u001b[0m │ \u001b[32mDurotar               \u001b[0m │    \u001b[1;36m-1\u001b[0m │ \u001b[35m2008-01-01 00:02:04\u001b[0m │\n",
       "│ \u001b[1;36m65325\u001b[0m │    \u001b[1;36m14\u001b[0m │ \u001b[32mOrc   \u001b[0m │ \u001b[32mWarrior  \u001b[0m │ \u001b[32mGhostlands            \u001b[0m │    \u001b[1;36m-1\u001b[0m │ \u001b[35m2008-01-01 00:02:04\u001b[0m │\n",
       "│ \u001b[1;36m65490\u001b[0m │    \u001b[1;36m18\u001b[0m │ \u001b[32mOrc   \u001b[0m │ \u001b[32mHunter   \u001b[0m │ \u001b[32mGhostlands            \u001b[0m │    \u001b[1;36m-1\u001b[0m │ \u001b[35m2008-01-01 00:02:04\u001b[0m │\n",
       "│  \u001b[1;36m2288\u001b[0m │    \u001b[1;36m60\u001b[0m │ \u001b[32mOrc   \u001b[0m │ \u001b[32mHunter   \u001b[0m │ \u001b[32mHellfire Peninsula    \u001b[0m │    \u001b[1;36m-1\u001b[0m │ \u001b[35m2008-01-01 00:02:09\u001b[0m │\n",
       "│  \u001b[1;36m2289\u001b[0m │    \u001b[1;36m60\u001b[0m │ \u001b[32mOrc   \u001b[0m │ \u001b[32mHunter   \u001b[0m │ \u001b[32mHellfire Peninsula    \u001b[0m │    \u001b[1;36m-1\u001b[0m │ \u001b[35m2008-01-01 00:02:09\u001b[0m │\n",
       "│ \u001b[1;36m61239\u001b[0m │    \u001b[1;36m68\u001b[0m │ \u001b[32mOrc   \u001b[0m │ \u001b[32mHunter   \u001b[0m │ \u001b[32mBlade's Edge Mountains\u001b[0m │   \u001b[1;36m243\u001b[0m │ \u001b[35m2008-01-01 00:02:14\u001b[0m │\n",
       "│ \u001b[1;36m59772\u001b[0m │    \u001b[1;36m69\u001b[0m │ \u001b[32mOrc   \u001b[0m │ \u001b[32mWarrior  \u001b[0m │ \u001b[32mShadowmoon Valley     \u001b[0m │    \u001b[1;36m35\u001b[0m │ \u001b[35m2008-01-01 00:02:14\u001b[0m │\n",
       "│ \u001b[1;36m22937\u001b[0m │    \u001b[1;36m69\u001b[0m │ \u001b[32mOrc   \u001b[0m │ \u001b[32mRogue    \u001b[0m │ \u001b[32mWarsong Gulch         \u001b[0m │   \u001b[1;36m243\u001b[0m │ \u001b[35m2008-01-01 00:02:14\u001b[0m │\n",
       "│ \u001b[1;36m23062\u001b[0m │    \u001b[1;36m69\u001b[0m │ \u001b[32mOrc   \u001b[0m │ \u001b[32mShaman   \u001b[0m │ \u001b[32mShattrath City        \u001b[0m │   \u001b[1;36m103\u001b[0m │ \u001b[35m2008-01-01 00:02:14\u001b[0m │\n",
       "│     \u001b[2m…\u001b[0m │     \u001b[2m…\u001b[0m │ \u001b[2m…\u001b[0m      │ \u001b[2m…\u001b[0m         │ \u001b[2m…\u001b[0m                      │     \u001b[2m…\u001b[0m │ \u001b[2m…\u001b[0m                   │\n",
       "└───────┴───────┴────────┴───────────┴────────────────────────┴───────┴─────────────────────┘"
      ]
     },
     "execution_count": 16,
     "metadata": {},
     "output_type": "execute_result"
    }
   ],
   "source": [
    "wow"
   ]
  },
  {
   "cell_type": "markdown",
   "metadata": {},
   "source": [
    "What is the max level?"
   ]
  },
  {
   "cell_type": "code",
   "execution_count": 17,
   "metadata": {},
   "outputs": [
    {
     "data": {
      "text/html": [
       "<pre style=\"white-space:pre;overflow-x:auto;line-height:normal;font-family:Menlo,'DejaVu Sans Mono',consolas,'Courier New',monospace\"></pre>\n"
      ],
      "text/plain": []
     },
     "metadata": {},
     "output_type": "display_data"
    },
    {
     "data": {
      "text/plain": [
       "\u001b[1;36m80\u001b[0m"
      ]
     },
     "execution_count": 17,
     "metadata": {},
     "output_type": "execute_result"
    }
   ],
   "source": [
    "wow.level.max()"
   ]
  },
  {
   "cell_type": "markdown",
   "metadata": {},
   "source": [
    "It's 80. But when was the first level 80 achieved?"
   ]
  },
  {
   "cell_type": "code",
   "execution_count": 18,
   "metadata": {},
   "outputs": [
    {
     "data": {
      "text/html": [
       "<pre style=\"white-space:pre;overflow-x:auto;line-height:normal;font-family:Menlo,'DejaVu Sans Mono',consolas,'Courier New',monospace\">┏━━━━━━━━━━━━━━━━━━━━━┓\n",
       "┃<span style=\"font-weight: bold\"> Min(timestamp)      </span>┃\n",
       "┡━━━━━━━━━━━━━━━━━━━━━┩\n",
       "│ <span style=\"color: #7f7f7f; text-decoration-color: #7f7f7f\">timestamp</span>           │\n",
       "├─────────────────────┤\n",
       "│ <span style=\"color: #800080; text-decoration-color: #800080\">2008-11-21 11:45:35</span> │\n",
       "└─────────────────────┘\n",
       "</pre>\n"
      ],
      "text/plain": [
       "┏━━━━━━━━━━━━━━━━━━━━━┓\n",
       "┃\u001b[1m \u001b[0m\u001b[1mMin(timestamp)\u001b[0m\u001b[1m     \u001b[0m\u001b[1m \u001b[0m┃\n",
       "┡━━━━━━━━━━━━━━━━━━━━━┩\n",
       "│ \u001b[2mtimestamp\u001b[0m           │\n",
       "├─────────────────────┤\n",
       "│ \u001b[35m2008-11-21 11:45:35\u001b[0m │\n",
       "└─────────────────────┘"
      ]
     },
     "execution_count": 18,
     "metadata": {},
     "output_type": "execute_result"
    }
   ],
   "source": [
    "wow.filter(_.level == 80).agg(_.timestamp.min())"
   ]
  },
  {
   "cell_type": "code",
   "execution_count": 19,
   "metadata": {},
   "outputs": [
    {
     "data": {
      "text/html": [
       "<pre style=\"white-space:pre;overflow-x:auto;line-height:normal;font-family:Menlo,'DejaVu Sans Mono',consolas,'Courier New',monospace\">┏━━━━━━━━━━━━┓\n",
       "┃<span style=\"font-weight: bold\"> Max(level) </span>┃\n",
       "┡━━━━━━━━━━━━┩\n",
       "│ <span style=\"color: #7f7f7f; text-decoration-color: #7f7f7f\">int32</span>      │\n",
       "├────────────┤\n",
       "│         <span style=\"color: #008080; text-decoration-color: #008080; font-weight: bold\">79</span> │\n",
       "└────────────┘\n",
       "</pre>\n"
      ],
      "text/plain": [
       "┏━━━━━━━━━━━━┓\n",
       "┃\u001b[1m \u001b[0m\u001b[1mMax(level)\u001b[0m\u001b[1m \u001b[0m┃\n",
       "┡━━━━━━━━━━━━┩\n",
       "│ \u001b[2mint32\u001b[0m      │\n",
       "├────────────┤\n",
       "│         \u001b[1;36m79\u001b[0m │\n",
       "└────────────┘"
      ]
     },
     "execution_count": 19,
     "metadata": {},
     "output_type": "execute_result"
    }
   ],
   "source": [
    "wow.filter(_.timestamp < '2008-11-21 11:45:35').agg(_.level.max())"
   ]
  },
  {
   "cell_type": "markdown",
   "metadata": {},
   "source": [
    "Who was the first level 80? Which character ID?"
   ]
  },
  {
   "cell_type": "code",
   "execution_count": 31,
   "metadata": {},
   "outputs": [
    {
     "data": {
      "text/html": [
       "<pre style=\"white-space:pre;overflow-x:auto;line-height:normal;font-family:Menlo,'DejaVu Sans Mono',consolas,'Courier New',monospace\">┏━━━━━━━┳━━━━━━━┳━━━━━━━━┳━━━━━━━━━━━┳━━━━━━━━━┳━━━━━━━┳━━━━━━━━━━━━━━━━━━━━━┓\n",
       "┃<span style=\"font-weight: bold\"> char  </span>┃<span style=\"font-weight: bold\"> level </span>┃<span style=\"font-weight: bold\"> race   </span>┃<span style=\"font-weight: bold\"> charclass </span>┃<span style=\"font-weight: bold\"> zone    </span>┃<span style=\"font-weight: bold\"> guild </span>┃<span style=\"font-weight: bold\"> timestamp           </span>┃\n",
       "┡━━━━━━━╇━━━━━━━╇━━━━━━━━╇━━━━━━━━━━━╇━━━━━━━━━╇━━━━━━━╇━━━━━━━━━━━━━━━━━━━━━┩\n",
       "│ <span style=\"color: #7f7f7f; text-decoration-color: #7f7f7f\">int32</span> │ <span style=\"color: #7f7f7f; text-decoration-color: #7f7f7f\">int32</span> │ <span style=\"color: #7f7f7f; text-decoration-color: #7f7f7f\">string</span> │ <span style=\"color: #7f7f7f; text-decoration-color: #7f7f7f\">string</span>    │ <span style=\"color: #7f7f7f; text-decoration-color: #7f7f7f\">string</span>  │ <span style=\"color: #7f7f7f; text-decoration-color: #7f7f7f\">int32</span> │ <span style=\"color: #7f7f7f; text-decoration-color: #7f7f7f\">timestamp</span>           │\n",
       "├───────┼───────┼────────┼───────────┼─────────┼───────┼─────────────────────┤\n",
       "│  <span style=\"color: #008080; text-decoration-color: #008080; font-weight: bold\">1450</span> │    <span style=\"color: #008080; text-decoration-color: #008080; font-weight: bold\">80</span> │ <span style=\"color: #008000; text-decoration-color: #008000\">Undead</span> │ <span style=\"color: #008000; text-decoration-color: #008000\">Warlock  </span> │ <span style=\"color: #008000; text-decoration-color: #008000\">Dalaran</span> │     <span style=\"color: #008080; text-decoration-color: #008080; font-weight: bold\">5</span> │ <span style=\"color: #800080; text-decoration-color: #800080\">2008-11-21 11:45:35</span> │\n",
       "└───────┴───────┴────────┴───────────┴─────────┴───────┴─────────────────────┘\n",
       "</pre>\n"
      ],
      "text/plain": [
       "┏━━━━━━━┳━━━━━━━┳━━━━━━━━┳━━━━━━━━━━━┳━━━━━━━━━┳━━━━━━━┳━━━━━━━━━━━━━━━━━━━━━┓\n",
       "┃\u001b[1m \u001b[0m\u001b[1mchar\u001b[0m\u001b[1m \u001b[0m\u001b[1m \u001b[0m┃\u001b[1m \u001b[0m\u001b[1mlevel\u001b[0m\u001b[1m \u001b[0m┃\u001b[1m \u001b[0m\u001b[1mrace\u001b[0m\u001b[1m  \u001b[0m\u001b[1m \u001b[0m┃\u001b[1m \u001b[0m\u001b[1mcharclass\u001b[0m\u001b[1m \u001b[0m┃\u001b[1m \u001b[0m\u001b[1mzone\u001b[0m\u001b[1m   \u001b[0m\u001b[1m \u001b[0m┃\u001b[1m \u001b[0m\u001b[1mguild\u001b[0m\u001b[1m \u001b[0m┃\u001b[1m \u001b[0m\u001b[1mtimestamp\u001b[0m\u001b[1m          \u001b[0m\u001b[1m \u001b[0m┃\n",
       "┡━━━━━━━╇━━━━━━━╇━━━━━━━━╇━━━━━━━━━━━╇━━━━━━━━━╇━━━━━━━╇━━━━━━━━━━━━━━━━━━━━━┩\n",
       "│ \u001b[2mint32\u001b[0m │ \u001b[2mint32\u001b[0m │ \u001b[2mstring\u001b[0m │ \u001b[2mstring\u001b[0m    │ \u001b[2mstring\u001b[0m  │ \u001b[2mint32\u001b[0m │ \u001b[2mtimestamp\u001b[0m           │\n",
       "├───────┼───────┼────────┼───────────┼─────────┼───────┼─────────────────────┤\n",
       "│  \u001b[1;36m1450\u001b[0m │    \u001b[1;36m80\u001b[0m │ \u001b[32mUndead\u001b[0m │ \u001b[32mWarlock  \u001b[0m │ \u001b[32mDalaran\u001b[0m │     \u001b[1;36m5\u001b[0m │ \u001b[35m2008-11-21 11:45:35\u001b[0m │\n",
       "└───────┴───────┴────────┴───────────┴─────────┴───────┴─────────────────────┘"
      ]
     },
     "execution_count": 31,
     "metadata": {},
     "output_type": "execute_result"
    }
   ],
   "source": [
    "wow.filter((_.level == 80) & (_.timestamp == '2008-11-21 11:45:35'))"
   ]
  },
  {
   "cell_type": "code",
   "execution_count": 32,
   "metadata": {},
   "outputs": [
    {
     "data": {
      "text/html": [
       "<pre style=\"white-space:pre;overflow-x:auto;line-height:normal;font-family:Menlo,'DejaVu Sans Mono',consolas,'Courier New',monospace\">┏━━━━━━━┓\n",
       "┃<span style=\"font-weight: bold\"> char  </span>┃\n",
       "┡━━━━━━━┩\n",
       "│ <span style=\"color: #7f7f7f; text-decoration-color: #7f7f7f\">int32</span> │\n",
       "├───────┤\n",
       "│  <span style=\"color: #008080; text-decoration-color: #008080; font-weight: bold\">1450</span> │\n",
       "└───────┘\n",
       "</pre>\n"
      ],
      "text/plain": [
       "┏━━━━━━━┓\n",
       "┃\u001b[1m \u001b[0m\u001b[1mchar\u001b[0m\u001b[1m \u001b[0m\u001b[1m \u001b[0m┃\n",
       "┡━━━━━━━┩\n",
       "│ \u001b[2mint32\u001b[0m │\n",
       "├───────┤\n",
       "│  \u001b[1;36m1450\u001b[0m │\n",
       "└───────┘"
      ]
     },
     "execution_count": 32,
     "metadata": {},
     "output_type": "execute_result"
    }
   ],
   "source": [
    "wow.filter((_.level == 80) & (_.timestamp == '2008-11-21 11:45:35')).select(\"char\")"
   ]
  }
 ],
 "metadata": {
  "kernelspec": {
   "display_name": "Python 3 (ipykernel)",
   "language": "python",
   "name": "python3"
  },
  "language_info": {
   "codemirror_mode": {
    "name": "ipython",
    "version": 3
   },
   "file_extension": ".py",
   "mimetype": "text/x-python",
   "name": "python",
   "nbconvert_exporter": "python",
   "pygments_lexer": "ipython3",
   "version": "3.10.13"
  }
 },
 "nbformat": 4,
 "nbformat_minor": 2
}
